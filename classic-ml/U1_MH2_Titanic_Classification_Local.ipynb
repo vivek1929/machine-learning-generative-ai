{
 "cells": [
  {
   "cell_type": "markdown",
   "metadata": {
    "id": "x3A2XBqYQg-N"
   },
   "source": [
    "# Advanced Certification in AIML\n",
    "## A Program by IIIT-H and TalentSprint\n"
   ]
  },
  {
   "cell_type": "markdown",
   "metadata": {
    "id": "Jw4QHJlfsSF4"
   },
   "source": [
    "## Learning Objectives\n"
   ]
  },
  {
   "cell_type": "markdown",
   "metadata": {
    "id": "EsSB95vPsoxS"
   },
   "source": [
    "At the end of the mini-hackathon you will be able to:\n",
    "* Perform Data preprocessing\n",
    "* Apply different ML algorithms on the **Titanic** dataset\n",
    "* Perform VotingClassifier\n"
   ]
  },
  {
   "cell_type": "markdown",
   "metadata": {
    "id": "Nh70dVHx0G_B"
   },
   "source": [
    "## Dataset Description"
   ]
  },
  {
   "cell_type": "markdown",
   "metadata": {
    "id": "y-GMJTRb0Iyy"
   },
   "source": [
    "The sinking of the Titanic is one of the most infamous shipwrecks in history.\n",
    "\n",
    "On April 15, 1912, during her maiden voyage, the widely considered “unsinkable” RMS Titanic sank after colliding with an iceberg. Unfortunately, there weren’t enough lifeboats for everyone onboard, resulting in the death of many passengers and crew.\n",
    "\n",
    "While there was some element of luck involved in surviving, it seems some groups of people were more likely to survive than others.\n",
    "\n",
    "[ Data Set Link: Kaggle competition](https://www.kaggle.com/competitions/titanic)\n",
    "\n",
    "<br/>\n",
    "\n",
    "### Data Set Characteristics:\n",
    "\n",
    "**PassengerId:** Id of the Passenger\n",
    "\n",
    "**Survived:** Survived or Not information\n",
    "\n",
    "**Pclass:** Socio-economic status (SES)\n",
    "  * 1st = Upper\n",
    "  * 2nd = Middle\n",
    "  * 3rd = Lower\n",
    "\n",
    "**Name:** Surname, First Names of the Passenger\n",
    "\n",
    "**Sex:** Gender of the Passenger\n",
    "\n",
    "**Age:** Age of the Passenger\n",
    "\n",
    "**SibSp:**\tNo. of siblings/spouse of the passenger aboard the Titanic\n",
    "\n",
    "**Parch:**\tNo. of parents/children of the passenger aboard the Titanic\n",
    "\n",
    "**Ticket:**\tTicket number\n",
    "\n",
    "**Fare:** Passenger fare\n",
    "\n",
    "**Cabin:**\tCabin number\n",
    "\n",
    "**Embarked:** Port of Embarkation\n",
    "  * S = Southampton\n",
    "  * C = Cherbourg\n",
    "  * Q = Queenstown\n"
   ]
  },
  {
   "cell_type": "markdown",
   "metadata": {
    "id": "KmusUbENKSEt"
   },
   "source": [
    "## Problem Statement\n",
    "\n",
    "Build a predictive model that answers the question: “what sort of people were more likely to survive?” using titanic's passenger data (ie name, age, gender, socio-economic class, etc)."
   ]
  },
  {
   "cell_type": "code",
   "execution_count": 54,
   "metadata": {
    "cellView": "form",
    "id": "ViFc50xKK-tY"
   },
   "outputs": [
    {
     "name": "stdout",
     "output_type": "stream",
     "text": [
      "Checking for data files...\n",
      "✓ All data files are available\n",
      "✓ titanic.csv (training data)\n",
      "✓ test_titanic.csv (test data)\n"
     ]
    }
   ],
   "source": [
    "# Check if datasets are available locally\n",
    "import os\n",
    "print(\"Checking for data files...\")\n",
    "if os.path.exists('titanic.csv') and os.path.exists('test_titanic.csv'):\n",
    "    print(\"✓ All data files are available\")\n",
    "    print(\"✓ titanic.csv (training data)\")\n",
    "    print(\"✓ test_titanic.csv (test data)\")\n",
    "else:\n",
    "    print(\"❌ Data files missing. Please ensure titanic.csv and test_titanic.csv are in the current directory.\")\n",
    "    print(\"You can download them using:\")\n",
    "    print(\"curl -o titanic.csv https://cdn.iiith.talentsprint.com/aiml/Experiment_related_data/titanic.csv\")\n",
    "    print(\"curl -o test_titanic.csv https://cdn.iiith.talentsprint.com/aiml/Experiment_related_data/test_titanic.csv\")"
   ]
  },
  {
   "cell_type": "code",
   "execution_count": 55,
   "metadata": {
    "id": "RM8x-pMDLQuq"
   },
   "outputs": [
    {
     "name": "stdout",
     "output_type": "stream",
     "text": [
      "correct_age_imputation_notebook.md\n",
      "correct_knn_imputation.py\n",
      "\u001b[1m\u001b[36mnotes\u001b[m\u001b[m\n",
      "Practice_U1_MH1_Data_Munging.ipynb\n",
      "\u001b[1m\u001b[36mpre_reads\u001b[m\u001b[m\n",
      "test_titanic.csv\n",
      "titanic.csv\n",
      "\u001b[1m\u001b[36mtranscripts\u001b[m\u001b[m\n",
      "U1_MH2_Titanic_Classification_Local.ipynb\n",
      "U1_MH2_Titanic_Classification.ipynb\n"
     ]
    }
   ],
   "source": [
    "!ls"
   ]
  },
  {
   "cell_type": "markdown",
   "metadata": {
    "id": "g5fBLdQaJtd4"
   },
   "source": [
    "## Exercise 1 - Load and Explore the Data (2 Marks)\n",
    "\n",
    "* Understand different features in the training dataset\n",
    "* Understand the data types of each column\n",
    "* Notice the columns of missing values\n",
    "\n",
    "\n"
   ]
  },
  {
   "cell_type": "markdown",
   "metadata": {
    "id": "gn6HQH7abkyL"
   },
   "source": [
    "#### Import Required Packages"
   ]
  },
  {
   "cell_type": "code",
   "execution_count": 56,
   "metadata": {
    "id": "4tUzpuurwCyH"
   },
   "outputs": [],
   "source": [
    "import pandas as pd\n",
    "import numpy as np\n",
    "import matplotlib.pyplot as plt\n",
    "import seaborn as sns\n",
    "from sklearn.model_selection import train_test_split\n",
    "from sklearn.preprocessing import StandardScaler\n",
    "from sklearn.ensemble import RandomForestClassifier, VotingClassifier\n",
    "from sklearn.linear_model import LogisticRegression\n",
    "from sklearn.svm import SVC\n",
    "from sklearn.metrics import accuracy_score, classification_report, confusion_matrix\n"
   ]
  },
  {
   "cell_type": "code",
   "execution_count": 57,
   "metadata": {
    "id": "sW9DMblWkhj_"
   },
   "outputs": [
    {
     "name": "stdout",
     "output_type": "stream",
     "text": [
      "Training dataset shape: (891, 12)\n",
      "\n",
      "First 5 rows of training data:\n",
      "   PassengerId  Survived  Pclass  \\\n",
      "0            1         0       3   \n",
      "1            2         1       1   \n",
      "2            3         1       3   \n",
      "3            4         1       1   \n",
      "4            5         0       3   \n",
      "\n",
      "                                                Name     Sex   Age  SibSp  \\\n",
      "0                            Braund, Mr. Owen Harris    male  22.0      1   \n",
      "1  Cumings, Mrs. John Bradley (Florence Briggs Th...  female  38.0      1   \n",
      "2                             Heikkinen, Miss. Laina  female  26.0      0   \n",
      "3       Futrelle, Mrs. Jacques Heath (Lily May Peel)  female  35.0      1   \n",
      "4                           Allen, Mr. William Henry    male  35.0      0   \n",
      "\n",
      "   Parch            Ticket     Fare Cabin Embarked  \n",
      "0      0         A/5 21171   7.2500   NaN        S  \n",
      "1      0          PC 17599  71.2833   C85        C  \n",
      "2      0  STON/O2. 3101282   7.9250   NaN        S  \n",
      "3      0            113803  53.1000  C123        S  \n",
      "4      0            373450   8.0500   NaN        S  \n"
     ]
    }
   ],
   "source": [
    "# Load the dataset\n",
    "train_df = pd.read_csv('titanic.csv')\n",
    "print(\"Training dataset shape:\", train_df.shape)\n",
    "print(\"\\nFirst 5 rows of training data:\")\n",
    "print(train_df.head())\n"
   ]
  },
  {
   "cell_type": "code",
   "execution_count": 58,
   "metadata": {
    "id": "54ktmr8lh8AS"
   },
   "outputs": [
    {
     "name": "stdout",
     "output_type": "stream",
     "text": [
      "\n",
      "Test dataset shape: (418, 11)\n",
      "\n",
      "First 5 rows of test data:\n",
      "   PassengerId  Pclass                                          Name     Sex  \\\n",
      "0          892       3                              Kelly, Mr. James    male   \n",
      "1          893       3              Wilkes, Mrs. James (Ellen Needs)  female   \n",
      "2          894       2                     Myles, Mr. Thomas Francis    male   \n",
      "3          895       3                              Wirz, Mr. Albert    male   \n",
      "4          896       3  Hirvonen, Mrs. Alexander (Helga E Lindqvist)  female   \n",
      "\n",
      "    Age  SibSp  Parch   Ticket     Fare Cabin Embarked  \n",
      "0  34.5      0      0   330911   7.8292   NaN        Q  \n",
      "1  47.0      1      0   363272   7.0000   NaN        S  \n",
      "2  62.0      0      0   240276   9.6875   NaN        Q  \n",
      "3  27.0      0      0   315154   8.6625   NaN        S  \n",
      "4  22.0      1      1  3101298  12.2875   NaN        S  \n"
     ]
    }
   ],
   "source": [
    "# Getting information about the dataset\n",
    "test_submission_df = pd.read_csv('test_titanic.csv')\n",
    "print(\"\\nTest dataset shape:\", test_submission_df.shape)\n",
    "print(\"\\nFirst 5 rows of test data:\")\n",
    "print(test_submission_df.head())"
   ]
  },
  {
   "cell_type": "code",
   "execution_count": 59,
   "metadata": {
    "id": "zAvxH5MUPWDj"
   },
   "outputs": [
    {
     "name": "stdout",
     "output_type": "stream",
     "text": [
      "=== TRAINING DATASET INFO ===\n",
      "Dataset Info:\n",
      "<class 'pandas.core.frame.DataFrame'>\n",
      "RangeIndex: 891 entries, 0 to 890\n",
      "Data columns (total 12 columns):\n",
      " #   Column       Non-Null Count  Dtype  \n",
      "---  ------       --------------  -----  \n",
      " 0   PassengerId  891 non-null    int64  \n",
      " 1   Survived     891 non-null    int64  \n",
      " 2   Pclass       891 non-null    int64  \n",
      " 3   Name         891 non-null    object \n",
      " 4   Sex          891 non-null    object \n",
      " 5   Age          714 non-null    float64\n",
      " 6   SibSp        891 non-null    int64  \n",
      " 7   Parch        891 non-null    int64  \n",
      " 8   Ticket       891 non-null    object \n",
      " 9   Fare         891 non-null    float64\n",
      " 10  Cabin        204 non-null    object \n",
      " 11  Embarked     889 non-null    object \n",
      "dtypes: float64(2), int64(5), object(5)\n",
      "memory usage: 83.7+ KB\n",
      "None\n",
      "\n",
      "Dataset Description:\n",
      "       PassengerId    Survived      Pclass         Age       SibSp  \\\n",
      "count   891.000000  891.000000  891.000000  714.000000  891.000000   \n",
      "mean    446.000000    0.383838    2.308642   29.699118    0.523008   \n",
      "std     257.353842    0.486592    0.836071   14.526497    1.102743   \n",
      "min       1.000000    0.000000    1.000000    0.420000    0.000000   \n",
      "25%     223.500000    0.000000    2.000000   20.125000    0.000000   \n",
      "50%     446.000000    0.000000    3.000000   28.000000    0.000000   \n",
      "75%     668.500000    1.000000    3.000000   38.000000    1.000000   \n",
      "max     891.000000    1.000000    3.000000   80.000000    8.000000   \n",
      "\n",
      "            Parch        Fare  \n",
      "count  891.000000  891.000000  \n",
      "mean     0.381594   32.204208  \n",
      "std      0.806057   49.693429  \n",
      "min      0.000000    0.000000  \n",
      "25%      0.000000    7.910400  \n",
      "50%      0.000000   14.454200  \n",
      "75%      0.000000   31.000000  \n",
      "max      6.000000  512.329200  \n",
      "\n",
      "Missing Values:\n",
      "PassengerId      0\n",
      "Survived         0\n",
      "Pclass           0\n",
      "Name             0\n",
      "Sex              0\n",
      "Age            177\n",
      "SibSp            0\n",
      "Parch            0\n",
      "Ticket           0\n",
      "Fare             0\n",
      "Cabin          687\n",
      "Embarked         2\n",
      "dtype: int64\n",
      "\n",
      "Data Types:\n",
      "PassengerId      int64\n",
      "Survived         int64\n",
      "Pclass           int64\n",
      "Name            object\n",
      "Sex             object\n",
      "Age            float64\n",
      "SibSp            int64\n",
      "Parch            int64\n",
      "Ticket          object\n",
      "Fare           float64\n",
      "Cabin           object\n",
      "Embarked        object\n",
      "dtype: object\n",
      "\n",
      "Unique values in each column:\n",
      "PassengerId: 891 unique values\n",
      "Survived: 2 unique values\n",
      "Pclass: 3 unique values\n",
      "Name: 891 unique values\n",
      "Sex: 2 unique values\n",
      "Age: 88 unique values\n",
      "SibSp: 7 unique values\n",
      "Parch: 7 unique values\n",
      "Ticket: 681 unique values\n",
      "Fare: 248 unique values\n",
      "Cabin: 147 unique values\n",
      "Embarked: 3 unique values\n",
      "\n",
      "Survival Distribution:\n",
      "Survived\n",
      "0    549\n",
      "1    342\n",
      "Name: count, dtype: int64\n",
      "\n",
      "Survival Rate:\n",
      "Survived\n",
      "0    0.616162\n",
      "1    0.383838\n",
      "Name: proportion, dtype: float64\n"
     ]
    }
   ],
   "source": [
    "print(\"=== TRAINING DATASET INFO ===\")\n",
    "print(\"Dataset Info:\")\n",
    "print(train_df.info())\n",
    "print(\"\\nDataset Description:\")\n",
    "print(train_df.describe())\n",
    "print(\"\\nMissing Values:\")\n",
    "print(train_df.isnull().sum())\n",
    "print(\"\\nData Types:\")\n",
    "print(train_df.dtypes)\n",
    "print(\"\\nUnique values in each column:\")\n",
    "for col in train_df.columns:\n",
    "    print(f\"{col}: {train_df[col].nunique()} unique values\")\n",
    "    \n",
    "# Display survival distribution\n",
    "print(\"\\nSurvival Distribution:\")\n",
    "print(train_df['Survived'].value_counts())\n",
    "print(\"\\nSurvival Rate:\")\n",
    "print(train_df['Survived'].value_counts(normalize=True))"
   ]
  },
  {
   "cell_type": "markdown",
   "metadata": {
    "id": "eQGya6YLOku-"
   },
   "source": [
    "## Exercise 02: Split the data into train and test sets (1 Mark)\n",
    "Note: Apply all your data preprocessing steps in the train set first and keep the test set aside."
   ]
  },
  {
   "cell_type": "code",
   "execution_count": 60,
   "metadata": {
    "id": "mps-O7zbPPcL"
   },
   "outputs": [
    {
     "name": "stdout",
     "output_type": "stream",
     "text": [
      "Training set shape: (712, 11)\n",
      "Testing set shape: (179, 11)\n",
      "Training target shape: (712,)\n",
      "Testing target shape: (179,)\n"
     ]
    }
   ],
   "source": [
    "\n",
    "# Import required library\n",
    "from sklearn.model_selection import train_test_split\n",
    "\n",
    "# Separate features (X) and target variable (y)\n",
    "X = train_df.drop('Survived', axis=1)  # Features\n",
    "y = train_df['Survived']  # Target variable\n",
    "\n",
    "# Split the data into training and testing sets (80% train, 20% test)\n",
    "X_train, X_test, y_train, y_test = train_test_split(X, y, test_size=0.2, random_state=42)\n",
    "\n",
    "# Print the shapes of the resulting datasets\n",
    "print(\"Training set shape:\", X_train.shape)\n",
    "print(\"Testing set shape:\", X_test.shape)\n",
    "print(\"Training target shape:\", y_train.shape) \n",
    "print(\"Testing target shape:\", y_test.shape)\n"
   ]
  },
  {
   "cell_type": "markdown",
   "metadata": {
    "id": "-pMXWDyaspe3"
   },
   "source": [
    "## Exercise 03: Data Cleaning and Processing (15 Marks)\n",
    "### 3.1 Working on the \"Cabin\" column (2 Marks)\n",
    "Find unique entries in the Cabin column. We can label all passengers in two categories having a cabin or not. Check the data type(use: type) of each entry of the Cabin. Convert a string data type into '1' i.e. passengers with cabin and others into '0' i.e. passengers without cabin.  Write a function for the above operation and apply it to the cabin column and create another column with the name \" Has_cabin\" containing only 0 or 1 entries.\n",
    "\n",
    "\n",
    "\n"
   ]
  },
  {
   "cell_type": "code",
   "execution_count": 61,
   "metadata": {
    "id": "KozjEOo9VS3Y"
   },
   "outputs": [
    {
     "name": "stdout",
     "output_type": "stream",
     "text": [
      "Unique entries in Cabin column:\n",
      "['C124' nan 'B58 B60' 'B38' 'C52' 'C93' 'C45' 'B20' 'B96 B98' 'C82' 'C78'\n",
      " 'C106' 'C22 C26' 'B57 B59 B63 B66' 'B28' 'C104' 'F2' 'D11' 'C86' 'E38'\n",
      " 'A34' 'C91' 'C68' 'F G73' 'E46' 'C92' 'E50' 'A32' 'G6' 'C128' 'E10' 'E44'\n",
      " 'B41' 'B18' 'D35' 'E31' 'C2' 'C50' 'C103' 'B3' 'A10' 'C49' 'C90' 'B77'\n",
      " 'C123' 'D' 'D36' 'E33' 'B5' 'A19' 'B37' 'E58' 'C23 C25 C27' 'F33' 'C7'\n",
      " 'E67' 'E8' 'B22' 'B35' 'C125' 'C65' 'C54' 'B80' 'B94' 'D26' 'E121' 'E24'\n",
      " 'D45' 'B101' 'B51 B53 B55' 'D17' 'D46' 'E17' 'B4' 'C46' 'A23' 'F4' 'C47'\n",
      " 'E101' 'C111' 'C101' 'B82 B84' 'C70' 'C32' 'B102' 'D20' 'B71' 'A36' 'D9'\n",
      " 'B50' 'D33' 'A16' 'B19' 'E12' 'C83' 'A26' 'F E69' 'A24' 'B73' 'C30' 'E40'\n",
      " 'D30' 'B42' 'C99' 'C85' 'D37' 'T' 'F38' 'C118' 'B49' 'B79' 'D6' 'F G63'\n",
      " 'A14' 'D49' 'C87' 'D56' 'C62 C64']\n",
      "\n",
      "Data type of first Cabin entry: <class 'str'>\n",
      "\n",
      "Distribution of Has_cabin values in training set:\n",
      "Has_cabin\n",
      "0    553\n",
      "1    159\n",
      "Name: count, dtype: int64\n"
     ]
    }
   ],
   "source": [
    "# Display unique entries in Cabin column\n",
    "print(\"Unique entries in Cabin column:\")\n",
    "print(X_train['Cabin'].unique())\n",
    "\n",
    "# Check data type of Cabin entries\n",
    "print(\"\\nData type of first Cabin entry:\", type(X_train['Cabin'].iloc[0]))\n",
    "\n",
    "# Function to convert Cabin values to binary (1 if has cabin, 0 if not)\n",
    "def has_cabin(cabin):\n",
    "    if pd.isna(cabin):\n",
    "        return 0\n",
    "    else:\n",
    "        return 1\n",
    "\n",
    "# Apply function to create Has_cabin column for both train and test sets\n",
    "X_train['Has_cabin'] = X_train['Cabin'].apply(has_cabin)\n",
    "X_test['Has_cabin'] = X_test['Cabin'].apply(has_cabin)\n",
    "\n",
    "# Display value counts of Has_cabin column\n",
    "print(\"\\nDistribution of Has_cabin values in training set:\")\n",
    "print(X_train['Has_cabin'].value_counts())\n"
   ]
  },
  {
   "cell_type": "code",
   "execution_count": null,
   "metadata": {
    "id": "n9N82uXWWf81"
   },
   "outputs": [],
   "source": []
  },
  {
   "cell_type": "markdown",
   "metadata": {
    "id": "mUm20kyHVTZe"
   },
   "source": [
    " ### 3.2 Working on \"SibSp\" & \"Parch\" columns (1 Mark)\n",
    "Combine columns \"SibSp\" & \"Parch\" and create another column that represents the total passengers in one ticket with the name \"family_size\". In each ticket, there might be Siblings/Spouses (SibSp =Number of Siblings/Spouses Aboard) or Parents/Children (Parch=Number of Parents/Children Aboard ) along with the passenger who booked the ticket.\n",
    "\n",
    "  "
   ]
  },
  {
   "cell_type": "code",
   "execution_count": 62,
   "metadata": {
    "id": "n2vHu13tWJx-"
   },
   "outputs": [
    {
     "name": "stdout",
     "output_type": "stream",
     "text": [
      "Distribution of family sizes in training set:\n",
      "family_size\n",
      "0     429\n",
      "1     127\n",
      "2      79\n",
      "3      26\n",
      "4      11\n",
      "5      17\n",
      "6      10\n",
      "7       6\n",
      "10      7\n",
      "Name: count, dtype: int64\n"
     ]
    }
   ],
   "source": [
    "# Create family_size column by adding SibSp and Parch columns\n",
    "X_train['family_size'] = X_train['SibSp'] + X_train['Parch']\n",
    "X_test['family_size'] = X_test['SibSp'] + X_test['Parch']\n",
    "\n",
    "# Display distribution of family sizes in training set\n",
    "print(\"Distribution of family sizes in training set:\")\n",
    "print(X_train['family_size'].value_counts().sort_index())\n"
   ]
  },
  {
   "cell_type": "code",
   "execution_count": null,
   "metadata": {
    "id": "lEkyLqqEVX2p"
   },
   "outputs": [],
   "source": []
  },
  {
   "cell_type": "markdown",
   "metadata": {
    "id": "cGPgnKttVYRL"
   },
   "source": [
    "### 3.3 Working on the\"Embarked\" column (2 Marks)\n",
    "The \"embarked\" column represents the port of Embarkation: Cherbourg(C), Queenstown(Q), and  Southampton(S ). Thus, the entries are of three categories in this column. Fill in the missing rows in this column. We can fill it with the most frequent category. Map these categorical string entries into numerical.\n",
    "\n"
   ]
  },
  {
   "cell_type": "code",
   "execution_count": 63,
   "metadata": {
    "id": "IApw-rL1Y1jE"
   },
   "outputs": [
    {
     "name": "stdout",
     "output_type": "stream",
     "text": [
      "Missing values in Embarked column:\n",
      "2\n",
      "\n",
      "Most frequent Embarked category: S\n",
      "\n",
      "Distribution of Embarked values after mapping:\n",
      "Embarked\n",
      "0    527\n",
      "1    125\n",
      "2     60\n",
      "Name: count, dtype: int64\n"
     ]
    }
   ],
   "source": [
    "# Check for missing values in Embarked column\n",
    "print(\"Missing values in Embarked column:\")\n",
    "print(X_train['Embarked'].isnull().sum())\n",
    "\n",
    "# Find most frequent category in Embarked\n",
    "most_frequent = X_train['Embarked'].mode()[0]\n",
    "print(f\"\\nMost frequent Embarked category: {most_frequent}\")\n",
    "\n",
    "# Fill missing values with most frequent category\n",
    "X_train['Embarked'] = X_train['Embarked'].fillna(most_frequent)\n",
    "X_test['Embarked'] = X_test['Embarked'].fillna(most_frequent)\n",
    "\n",
    "# Map categorical values to numerical\n",
    "embarked_mapping = {'S': 0, 'C': 1, 'Q': 2}\n",
    "X_train['Embarked'] = X_train['Embarked'].map(embarked_mapping)\n",
    "X_test['Embarked'] = X_test['Embarked'].map(embarked_mapping)\n",
    "\n",
    "# Display distribution after mapping\n",
    "print(\"\\nDistribution of Embarked values after mapping:\")\n",
    "print(X_train['Embarked'].value_counts().sort_index())\n"
   ]
  },
  {
   "cell_type": "code",
   "execution_count": null,
   "metadata": {
    "id": "rVTiJ27OVbzB"
   },
   "outputs": [],
   "source": []
  },
  {
   "cell_type": "code",
   "execution_count": null,
   "metadata": {
    "id": "0TFv47f9Y0yO"
   },
   "outputs": [],
   "source": []
  },
  {
   "cell_type": "markdown",
   "metadata": {
    "id": "dWmjUnN3VcF6"
   },
   "source": [
    "### 3.4 Working on the \"Age\" column (2 Marks)\n",
    "find the number of NaN entries in the age column and their row index. Calculate the mean, Standard deviation of the Age column and check the distribution of the age column.We can fill the missing values with randomly generated integer values between (mean+Standard deviation, mean-Standard deviation). Use : np.isnan; np.random.randint; concept of slicing dataframe. Convert the age column as an integer data type.\n",
    "\n"
   ]
  },
  {
   "cell_type": "code",
   "execution_count": 64,
   "metadata": {
    "id": "gbLqDB1hVf1a"
   },
   "outputs": [
    {
     "name": "stdout",
     "output_type": "stream",
     "text": [
      "=== IMPROVED KNN IMPUTATION FOR AGE ===\n",
      "Before imputation - Missing Age values:\n",
      "Training: 140\n",
      "Test: 37\n",
      "\n",
      "Features used for finding similar passengers: ['Pclass', 'Sex', 'SibSp', 'Parch', 'Fare', 'Embarked', 'Age']\n",
      "\n",
      "After KNN imputation - Missing Age values:\n",
      "Training: 0\n",
      "Test: 0\n"
     ]
    },
    {
     "data": {
      "image/png": "[encoded data removed]",
      "text/plain": [
       "<Figure size 1500x500 with 3 Axes>"
      ]
     },
     "metadata": {},
     "output_type": "display_data"
    },
    {
     "name": "stdout",
     "output_type": "stream",
     "text": [
      "\n",
      "Age statistics after imputation:\n",
      "count    712.000000\n",
      "mean      29.655899\n",
      "std       13.503591\n",
      "min        0.000000\n",
      "25%       22.000000\n",
      "50%       28.000000\n",
      "75%       37.250000\n",
      "max       80.000000\n",
      "Name: Age, dtype: float64\n"
     ]
    }
   ],
   "source": [
    "# Improved KNN Imputation using multiple features\n",
    "from sklearn.impute import KNNImputer\n",
    "from sklearn.preprocessing import LabelEncoder\n",
    "import matplotlib.pyplot as plt\n",
    "\n",
    "print(\"=== IMPROVED KNN IMPUTATION FOR AGE ===\")\n",
    "\n",
    "# Prepare features for KNN imputation\n",
    "# We'll use multiple features to find similar passengers\n",
    "features_for_knn = ['Pclass', 'Sex', 'SibSp', 'Parch', 'Fare', 'Embarked', 'Age']\n",
    "\n",
    "# Create temporary datasets for imputation\n",
    "train_for_imputation = X_train[features_for_knn].copy()\n",
    "test_for_imputation = X_test[features_for_knn].copy()\n",
    "\n",
    "print(f\"Before imputation - Missing Age values:\")\n",
    "print(f\"Training: {train_for_imputation['Age'].isnull().sum()}\")\n",
    "print(f\"Test: {test_for_imputation['Age'].isnull().sum()}\")\n",
    "\n",
    "# Encode categorical variables for KNN\n",
    "le_sex = LabelEncoder()\n",
    "le_embarked = LabelEncoder()\n",
    "\n",
    "# Handle Sex column\n",
    "train_for_imputation['Sex'] = le_sex.fit_transform(train_for_imputation['Sex'])\n",
    "test_for_imputation['Sex'] = le_sex.transform(test_for_imputation['Sex'])\n",
    "\n",
    "# Handle Embarked column (fill missing values first)\n",
    "train_mode_embarked = train_for_imputation['Embarked'].mode()[0]\n",
    "train_for_imputation = train_for_imputation.fillna({'Embarked': train_mode_embarked})\n",
    "test_for_imputation = test_for_imputation.fillna({'Embarked': train_mode_embarked})\n",
    "\n",
    "train_for_imputation['Embarked'] = le_embarked.fit_transform(train_for_imputation['Embarked'])\n",
    "test_for_imputation['Embarked'] = le_embarked.transform(test_for_imputation['Embarked'])\n",
    "\n",
    "# Handle Fare column (fill missing values if any)\n",
    "train_median_fare = train_for_imputation['Fare'].median()\n",
    "train_for_imputation = train_for_imputation.fillna({'Fare': train_median_fare})\n",
    "test_for_imputation = test_for_imputation.fillna({'Fare': train_median_fare})\n",
    "\n",
    "print(f\"\\nFeatures used for finding similar passengers: {list(train_for_imputation.columns)}\")\n",
    "\n",
    "# Apply KNN Imputation\n",
    "imputer = KNNImputer(n_neighbors=5)\n",
    "\n",
    "# Fit on training data and transform both\n",
    "train_imputed = imputer.fit_transform(train_for_imputation)\n",
    "test_imputed = imputer.transform(test_for_imputation)\n",
    "\n",
    "# Convert back to DataFrames\n",
    "train_imputed_df = pd.DataFrame(train_imputed, columns=train_for_imputation.columns, index=train_for_imputation.index)\n",
    "test_imputed_df = pd.DataFrame(test_imputed, columns=test_for_imputation.columns, index=test_for_imputation.index)\n",
    "\n",
    "# Update the Age column in original datasets\n",
    "X_train['Age'] = train_imputed_df['Age'].round().astype(int)\n",
    "X_test['Age'] = test_imputed_df['Age'].round().astype(int)\n",
    "\n",
    "print(f\"\\nAfter KNN imputation - Missing Age values:\")\n",
    "print(f\"Training: {X_train['Age'].isnull().sum()}\")\n",
    "print(f\"Test: {X_test['Age'].isnull().sum()}\")\n",
    "\n",
    "# Plot comparison\n",
    "plt.figure(figsize=(15, 5))\n",
    "\n",
    "plt.subplot(1, 3, 1)\n",
    "plt.hist(train_for_imputation['Age'].dropna(), bins=30, alpha=0.7, color='blue')\n",
    "plt.title('Original Age Distribution\\n(Training, without missing)')\n",
    "plt.xlabel('Age')\n",
    "plt.ylabel('Count')\n",
    "\n",
    "plt.subplot(1, 3, 2)\n",
    "plt.hist(X_train['Age'], bins=30, alpha=0.7, color='orange')\n",
    "plt.title('After KNN Imputation\\n(Training, all values)')\n",
    "plt.xlabel('Age')\n",
    "plt.ylabel('Count')\n",
    "\n",
    "plt.subplot(1, 3, 3)\n",
    "# Show only imputed values\n",
    "original_missing = train_for_imputation['Age'].isnull()\n",
    "if original_missing.sum() > 0:\n",
    "    imputed_ages = X_train.loc[original_missing, 'Age']\n",
    "    plt.hist(imputed_ages, bins=15, alpha=0.7, color='red')\n",
    "    plt.title('Only Imputed Ages\\n(What KNN filled in)')\n",
    "    plt.xlabel('Age')\n",
    "    plt.ylabel('Count')\n",
    "else:\n",
    "    plt.text(0.5, 0.5, 'No missing ages', ha='center', va='center', transform=plt.gca().transAxes)\n",
    "    plt.title('No Missing Ages to Impute')\n",
    "\n",
    "plt.tight_layout()\n",
    "plt.show()\n",
    "\n",
    "print(\"\\nAge statistics after imputation:\")\n",
    "print(X_train['Age'].describe())"
   ]
  },
  {
   "cell_type": "code",
   "execution_count": null,
   "metadata": {
    "id": "MFrug-3VakhY"
   },
   "outputs": [],
   "source": []
  },
  {
   "cell_type": "code",
   "execution_count": null,
   "metadata": {
    "id": "a9a69SMpa6aG"
   },
   "outputs": [],
   "source": []
  },
  {
   "cell_type": "markdown",
   "metadata": {
    "id": "doeanDr0VgGV"
   },
   "source": [
    "### 3.5 Working on \"sex\" column (1 Mark)\n",
    "Map the Sex column as 'female' : 0, 'male': 1, and convert it into an integer data type.\n",
    "\n"
   ]
  },
  {
   "cell_type": "code",
   "execution_count": 65,
   "metadata": {
    "id": "dGN92EsEVlTQ"
   },
   "outputs": [
    {
     "name": "stdout",
     "output_type": "stream",
     "text": [
      "\n",
      "Sex column after mapping:\n",
      "Sex\n",
      "1    467\n",
      "0    245\n",
      "Name: count, dtype: int64\n"
     ]
    }
   ],
   "source": [
    "# Map sex values and convert to integer\n",
    "sex_mapping = {'female': 0, 'male': 1}\n",
    "X_train['Sex'] = X_train['Sex'].map(sex_mapping).astype(int)\n",
    "X_test['Sex'] = X_test['Sex'].map(sex_mapping).astype(int)\n",
    "\n",
    "print(\"\\nSex column after mapping:\")\n",
    "print(X_train['Sex'].value_counts())\n"
   ]
  },
  {
   "cell_type": "markdown",
   "metadata": {},
   "source": [
    "### 3.6  Optional- Working on the \"Name\" column :\n",
    "Fetch titles from the name. We can map these titles with numbers and convert them into an integer. Use: concept of the regular expression.\n",
    "\n",
    "### 3.7 Optional- Working on the \"Fare\" column :\n",
    "We can convert face into categorical entries like Low, Medium, and High.\n",
    "\n"
   ]
  },
  {
   "cell_type": "code",
   "execution_count": 66,
   "metadata": {
    "id": "vuuDE0mQVo7v"
   },
   "outputs": [
    {
     "name": "stdout",
     "output_type": "stream",
     "text": [
      "\n",
      "Title distribution after mapping:\n",
      "Title\n",
      "1    419\n",
      "2    146\n",
      "3     99\n",
      "4     33\n",
      "5     15\n",
      "Name: count, dtype: int64\n",
      "\n",
      "Fare categories distribution:\n",
      "Fare\n",
      "0    400\n",
      "2    182\n",
      "1    130\n",
      "Name: count, dtype: int64\n"
     ]
    }
   ],
   "source": [
    "# Extract titles from Name using regex\n",
    "X_train['Title'] = X_train['Name'].str.extract(' ([A-Za-z]+)\\.', expand=False)\n",
    "X_test['Title'] = X_test['Name'].str.extract(' ([A-Za-z]+)\\.', expand=False)\n",
    "\n",
    "# Map titles to numbers\n",
    "title_mapping = {\n",
    "    'Mr': 1,\n",
    "    'Miss': 2,\n",
    "    'Mrs': 3,\n",
    "    'Master': 4,\n",
    "    'Dr': 5,\n",
    "    'Rev': 5,\n",
    "    'Col': 5,\n",
    "    'Major': 5,\n",
    "    'Mlle': 2,\n",
    "    'Countess': 3,\n",
    "    'Ms': 2,\n",
    "    'Lady': 3,\n",
    "    'Jonkheer': 1,\n",
    "    'Don': 1,\n",
    "    'Dona': 3,\n",
    "    'Mme': 3,\n",
    "    'Capt': 5,\n",
    "    'Sir': 5\n",
    "}\n",
    "\n",
    "X_train['Title'] = X_train['Title'].map(title_mapping)\n",
    "X_test['Title'] = X_test['Title'].map(title_mapping)\n",
    "\n",
    "print(\"\\nTitle distribution after mapping:\")\n",
    "print(X_train['Title'].value_counts())\n",
    "\n",
    "# Convert Fare to categories\n",
    "def categorize_fare(fare):\n",
    "    if fare <= 17:\n",
    "        return 0  # Low\n",
    "    elif fare <= 30:\n",
    "        return 1  # Medium\n",
    "    else:\n",
    "        return 2  # High\n",
    "\n",
    "X_train['Fare'] = X_train['Fare'].apply(categorize_fare)\n",
    "X_test['Fare'] = X_test['Fare'].apply(categorize_fare)\n",
    "\n",
    "print(\"\\nFare categories distribution:\")\n",
    "print(X_train['Fare'].value_counts())\n"
   ]
  },
  {
   "cell_type": "markdown",
   "metadata": {
    "id": "6oJI0bQOVpP4"
   },
   "source": [
    "### 3.8 Drop the columns (1 Mark)\n",
    "\n",
    "Drop the columns: - \"PassengerId\", \"Name\",  \"SibSp\" & \"Parch\", \"Tickets\", \"Cabin\"\n",
    "\n",
    "Now apply different ML algorithms and check the accuracy of your model.\n",
    "\n"
   ]
  },
  {
   "cell_type": "code",
   "execution_count": 67,
   "metadata": {
    "id": "1ZlnDtiiVvif"
   },
   "outputs": [
    {
     "name": "stdout",
     "output_type": "stream",
     "text": [
      "\n",
      "Remaining columns after dropping:\n",
      "['Pclass', 'Sex', 'Age', 'Fare', 'Embarked', 'Has_cabin', 'family_size', 'Title']\n"
     ]
    }
   ],
   "source": [
    "# Drop unnecessary columns\n",
    "columns_to_drop = ['PassengerId', 'Name', 'SibSp', 'Parch', 'Ticket', 'Cabin']\n",
    "X_train = X_train.drop(columns=columns_to_drop)\n",
    "X_test = X_test.drop(columns=columns_to_drop)\n",
    "\n",
    "print(\"\\nRemaining columns after dropping:\")\n",
    "print(X_train.columns.tolist())\n"
   ]
  },
  {
   "cell_type": "code",
   "execution_count": null,
   "metadata": {
    "id": "YVYnt5p7ccKK"
   },
   "outputs": [],
   "source": []
  },
  {
   "cell_type": "markdown",
   "metadata": {
    "id": "S2EfoVojebWn"
   },
   "source": [
    "### 3.9 Apply Standard Scalar (1 Mark)"
   ]
  },
  {
   "cell_type": "code",
   "execution_count": 68,
   "metadata": {
    "id": "fVWd4PEaeiod"
   },
   "outputs": [
    {
     "name": "stdout",
     "output_type": "stream",
     "text": [
      "\n",
      "Scaled features statistics:\n",
      "       Pclass     Sex     Age    Fare  Embarked  Has_cabin  family_size  \\\n",
      "count  712.00  712.00  712.00  712.00    712.00     712.00       712.00   \n",
      "mean     0.00   -0.00    0.00    0.00     -0.00       0.00         0.00   \n",
      "std      1.00    1.00    1.00    1.00      1.00       1.00         1.00   \n",
      "min     -1.61   -1.38   -2.20   -0.82     -0.55      -0.54        -0.55   \n",
      "25%     -0.40   -1.38   -0.57   -0.82     -0.55      -0.54        -0.55   \n",
      "50%      0.81    0.72   -0.12   -0.82     -0.55      -0.54        -0.55   \n",
      "75%      0.81    0.72    0.56    1.54      1.04      -0.54         0.04   \n",
      "max      0.81    0.72    3.73    1.54      2.64       1.86         5.39   \n",
      "\n",
      "        Title  \n",
      "count  712.00  \n",
      "mean    -0.00  \n",
      "std      1.00  \n",
      "min     -0.70  \n",
      "25%     -0.70  \n",
      "50%     -0.70  \n",
      "75%      0.29  \n",
      "max      3.27  \n"
     ]
    }
   ],
   "source": [
    "from sklearn.preprocessing import StandardScaler\n",
    "\n",
    "# Initialize the StandardScaler\n",
    "scaler = StandardScaler()\n",
    "\n",
    "# Fit and transform the training data\n",
    "X_train_scaled = scaler.fit_transform(X_train)\n",
    "\n",
    "# Convert back to DataFrame to maintain column names\n",
    "X_train_scaled = pd.DataFrame(X_train_scaled, columns=X_train.columns)\n",
    "\n",
    "print(\"\\nScaled features statistics:\")\n",
    "print(X_train_scaled.describe().round(2))\n"
   ]
  },
  {
   "cell_type": "markdown",
   "metadata": {
    "id": "Kwa6Ua9Qgbi7"
   },
   "source": [
    "### 3.10 Create a single function for preprocessing the test set (X_test) and apply it. (4 Marks)\n",
    "#### **Note**: All the pre-processing steps that were applied on the train set before ML Modelling are also applied on the test set before passing through the predict function."
   ]
  },
  {
   "cell_type": "code",
   "execution_count": 69,
   "metadata": {
    "id": "RLFNNM0SgqZ3"
   },
   "outputs": [
    {
     "name": "stdout",
     "output_type": "stream",
     "text": [
      "Training dataset shape: (891, 12)\n",
      "\n",
      "First 5 rows of training data:\n",
      "   PassengerId  Survived  Pclass  \\\n",
      "0            1         0       3   \n",
      "1            2         1       1   \n",
      "2            3         1       3   \n",
      "3            4         1       1   \n",
      "4            5         0       3   \n",
      "\n",
      "                                                Name     Sex   Age  SibSp  \\\n",
      "0                            Braund, Mr. Owen Harris    male  22.0      1   \n",
      "1  Cumings, Mrs. John Bradley (Florence Briggs Th...  female  38.0      1   \n",
      "2                             Heikkinen, Miss. Laina  female  26.0      0   \n",
      "3       Futrelle, Mrs. Jacques Heath (Lily May Peel)  female  35.0      1   \n",
      "4                           Allen, Mr. William Henry    male  35.0      0   \n",
      "\n",
      "   Parch            Ticket     Fare Cabin Embarked  \n",
      "0      0         A/5 21171   7.2500   NaN        S  \n",
      "1      0          PC 17599  71.2833   C85        C  \n",
      "2      0  STON/O2. 3101282   7.9250   NaN        S  \n",
      "3      0            113803  53.1000  C123        S  \n",
      "4      0            373450   8.0500   NaN        S  \n",
      "After preprocessing:\n",
      "Training data shape: (712, 7)\n",
      "Test data shape: (179, 7)\n",
      "Training columns: ['Pclass', 'Sex', 'Age', 'Fare', 'Embarked', 'Has_cabin', 'family_size']\n",
      "Test columns: ['Pclass', 'Sex', 'Age', 'Fare', 'Embarked', 'Has_cabin', 'family_size']\n",
      "✅ Columns match! Preprocessing is consistent.\n"
     ]
    }
   ],
   "source": [
    "## Create a function\n",
    "def preprocess_data_consistent(df, is_training=True, mean_age=None, std_age=None, mode_embarked=None):\n",
    "    \"\"\"\n",
    "    Consistent preprocessing function for both training and test data\n",
    "    \"\"\"\n",
    "    # Make a copy to avoid modifying original data\n",
    "    df_processed = df.copy()\n",
    "    \n",
    "    # 1. Handle Cabin column - create Has_cabin\n",
    "    def has_cabin(cabin):\n",
    "        if pd.isna(cabin):\n",
    "            return 0\n",
    "        else:\n",
    "            return 1\n",
    "    \n",
    "    df_processed['Has_cabin'] = df_processed['Cabin'].apply(has_cabin)\n",
    "    \n",
    "    # 2. Create family_size (SibSp + Parch + 1 for the passenger themselves)\n",
    "    df_processed['family_size'] = df_processed['SibSp'] + df_processed['Parch'] + 1\n",
    "    \n",
    "    # 3. Handle Embarked column consistently\n",
    "    if is_training:\n",
    "        # For training data, calculate the mode\n",
    "        mode_embarked = df_processed['Embarked'].mode()[0]\n",
    "    \n",
    "    # Fill missing values with mode - use proper pandas syntax\n",
    "    df_processed = df_processed.fillna({'Embarked': mode_embarked})\n",
    "    \n",
    "    # Map embarked to numerical values (NOT one-hot encoding)\n",
    "    embarked_mapping = {'S': 0, 'C': 1, 'Q': 2}\n",
    "    df_processed['Embarked'] = df_processed['Embarked'].map(embarked_mapping)\n",
    "    \n",
    "    # 4. Handle Age column consistently\n",
    "    if is_training:\n",
    "        # For training data, calculate mean and std\n",
    "        mean_age = df_processed['Age'].mean()\n",
    "        std_age = df_processed['Age'].std()\n",
    "    \n",
    "    # Fill missing ages with random values between mean-std and mean+std\n",
    "    age_null_indices = df_processed['Age'].isnull()\n",
    "    age_null_count = age_null_indices.sum()\n",
    "    \n",
    "    if age_null_count > 0:\n",
    "        random_ages = np.random.randint(\n",
    "            int(mean_age - std_age), \n",
    "            int(mean_age + std_age), \n",
    "            size=age_null_count\n",
    "        )\n",
    "        df_processed.loc[age_null_indices, 'Age'] = random_ages\n",
    "    \n",
    "    # Convert Age to integer\n",
    "    df_processed['Age'] = df_processed['Age'].astype(int)\n",
    "    \n",
    "    # 5. Handle Sex column\n",
    "    sex_mapping = {'female': 0, 'male': 1}\n",
    "    df_processed['Sex'] = df_processed['Sex'].map(sex_mapping)\n",
    "    \n",
    "    # 6. Handle missing Fare values (if any)\n",
    "    if df_processed['Fare'].isnull().any():\n",
    "        df_processed = df_processed.fillna({'Fare': df_processed['Fare'].median()})\n",
    "    \n",
    "    # 7. Drop unnecessary columns\n",
    "    columns_to_drop = ['PassengerId', 'Name', 'SibSp', 'Parch', 'Ticket', 'Cabin']\n",
    "    df_processed = df_processed.drop(columns_to_drop, axis=1)\n",
    "    \n",
    "    return df_processed, mean_age, std_age, mode_embarked\n",
    "# Apply preprocessing function to X_test\n",
    "train_df = pd.read_csv('titanic.csv')\n",
    "print(\"Training dataset shape:\", train_df.shape)\n",
    "print(\"\\nFirst 5 rows of training data:\")\n",
    "print(train_df.head())\n",
    "\n",
    "# Separate features and target\n",
    "X = train_df.drop('Survived', axis=1)\n",
    "y = train_df['Survived']\n",
    "\n",
    "# Split the data\n",
    "X_train, X_test, y_train, y_test = train_test_split(X, y, test_size=0.2, random_state=42)\n",
    "\n",
    "# Preprocess training data\n",
    "X_train_processed, mean_age, std_age, mode_embarked = preprocess_data_consistent(\n",
    "    X_train, is_training=True\n",
    ")\n",
    "\n",
    "# Preprocess test data using same parameters\n",
    "X_test_processed, _, _, _ = preprocess_data_consistent(\n",
    "    X_test, \n",
    "    is_training=False, \n",
    "    mean_age=mean_age, \n",
    "    std_age=std_age, \n",
    "    mode_embarked=mode_embarked\n",
    ")\n",
    "\n",
    "print(\"After preprocessing:\")\n",
    "print(\"Training data shape:\", X_train_processed.shape)\n",
    "print(\"Test data shape:\", X_test_processed.shape)\n",
    "print(\"Training columns:\", list(X_train_processed.columns))\n",
    "print(\"Test columns:\", list(X_test_processed.columns))\n",
    "\n",
    "# Verify columns match\n",
    "if list(X_train_processed.columns) == list(X_test_processed.columns):\n",
    "    print(\"✅ Columns match! Preprocessing is consistent.\")\n",
    "else:\n",
    "    print(\"❌ Columns don't match!\")\n"
   ]
  },
  {
   "cell_type": "code",
   "execution_count": 70,
   "metadata": {
    "id": "urGx3SRcc0kN"
   },
   "outputs": [],
   "source": [
    "## Applyting above function\n",
    "\n"
   ]
  },
  {
   "cell_type": "markdown",
   "metadata": {
    "id": "jlA3Gnmrc039"
   },
   "source": [
    "### 3.11 Apply standard Scalar transformation to x_test (1 Mark)"
   ]
  },
  {
   "cell_type": "code",
   "execution_count": 71,
   "metadata": {
    "id": "N0SAb9ccc2Qm"
   },
   "outputs": [
    {
     "name": "stdout",
     "output_type": "stream",
     "text": [
      "After scaling:\n",
      "Training data shape: (712, 7)\n",
      "Test data shape: (179, 7)\n"
     ]
    }
   ],
   "source": [
    "scaler = StandardScaler()\n",
    "X_train_scaled = pd.DataFrame(\n",
    "    scaler.fit_transform(X_train_processed), \n",
    "    columns=X_train_processed.columns\n",
    ")\n",
    "X_test_scaled = pd.DataFrame(\n",
    "    scaler.transform(X_test_processed), \n",
    "    columns=X_test_processed.columns\n",
    ")\n",
    "\n",
    "print(\"After scaling:\")\n",
    "print(\"Training data shape:\", X_train_scaled.shape)\n",
    "print(\"Test data shape:\", X_test_scaled.shape)"
   ]
  },
  {
   "cell_type": "markdown",
   "metadata": {
    "id": "zUMFQj-Gc1BO"
   },
   "source": [
    "## Exercise  4. Apply Multiple ML Algorithm and display the accuracy. (7 Marks)\n",
    " * Optional (  Ensemble Technique )\n",
    "#### Expected Accuracy >= 80%  \n"
   ]
  },
  {
   "cell_type": "code",
   "execution_count": 72,
   "metadata": {
    "id": "Xd-21QgEc2TV"
   },
   "outputs": [
    {
     "name": "stdout",
     "output_type": "stream",
     "text": [
      "Logistic Regression Accuracy: 0.8156\n",
      "Random Forest Accuracy: 0.7989\n",
      "Decision Tree Accuracy: 0.8212\n",
      "KNN Accuracy: 0.7877\n",
      "SVM Accuracy: 0.8156\n"
     ]
    },
    {
     "data": {
      "image/png": "[encoded data removed]",
      "text/plain": [
       "<Figure size 1000x600 with 1 Axes>"
      ]
     },
     "metadata": {},
     "output_type": "display_data"
    },
    {
     "name": "stdout",
     "output_type": "stream",
     "text": [
      "\n",
      "Best performing model: Decision Tree with accuracy: 0.8212\n"
     ]
    }
   ],
   "source": [
    "from sklearn.tree import DecisionTreeClassifier\n",
    "from sklearn.neighbors import KNeighborsClassifier\n",
    "\n",
    "# Initialize models\n",
    "models = {\n",
    "    'Logistic Regression': LogisticRegression(),\n",
    "    'Random Forest': RandomForestClassifier(random_state=42),\n",
    "    'Decision Tree': DecisionTreeClassifier(random_state=42),\n",
    "    'KNN': KNeighborsClassifier(),\n",
    "    'SVM': SVC(random_state=42)\n",
    "}\n",
    "\n",
    "# Train and evaluate each model\n",
    "results = {}\n",
    "for name, model in models.items():\n",
    "    # Train the model\n",
    "    model.fit(X_train_scaled, y_train)\n",
    "    \n",
    "    # Make predictions\n",
    "    y_pred = model.predict(X_test_scaled)\n",
    "    \n",
    "    # Calculate accuracy\n",
    "    accuracy = accuracy_score(y_test, y_pred)\n",
    "    results[name] = accuracy\n",
    "    \n",
    "    print(f\"{name} Accuracy: {accuracy:.4f}\")\n",
    "\n",
    "# Create bar plot of accuracies\n",
    "plt.figure(figsize=(10, 6))\n",
    "plt.bar(results.keys(), results.values())\n",
    "plt.title('Model Accuracies Comparison')\n",
    "plt.xlabel('Models')\n",
    "plt.ylabel('Accuracy')\n",
    "plt.xticks(rotation=45)\n",
    "plt.tight_layout()\n",
    "plt.show()\n",
    "\n",
    "# Find best performing model\n",
    "best_model_name = max(results, key=results.get)\n",
    "print(f\"\\nBest performing model: {best_model_name} with accuracy: {results[best_model_name]:.4f}\")\n",
    "\n"
   ]
  },
  {
   "cell_type": "markdown",
   "metadata": {
    "id": "NIf7BgedjLZ1"
   },
   "source": [
    "## Exercise  5. Pre-process the test_set (3 Marks)\n",
    "Again we have to apply the same preprocess function and standard scaler on this test set before passing through predict function.\n",
    "\n",
    "#### Understanding the test set:"
   ]
  },
  {
   "cell_type": "code",
   "execution_count": null,
   "metadata": {
    "id": "A4ApkkLec2V7"
   },
   "outputs": [],
   "source": []
  },
  {
   "cell_type": "markdown",
   "metadata": {
    "id": "syRBMp7ilrbe"
   },
   "source": [
    "#### Note: In the initial train set there were no missing entries in the \"Fare\" column. But, now for the submission test set, there is one missing entry in this column.\n",
    "\n",
    "#### There will be a minor change in the preprocess function to address the above issue."
   ]
  },
  {
   "cell_type": "code",
   "execution_count": null,
   "metadata": {
    "id": "Ppk5Fq0olrGF"
   },
   "outputs": [],
   "source": [
    "\n"
   ]
  },
  {
   "cell_type": "code",
   "execution_count": null,
   "metadata": {
    "id": "hQ4Lsp6znhrG"
   },
   "outputs": [],
   "source": []
  },
  {
   "cell_type": "code",
   "execution_count": null,
   "metadata": {
    "id": "P-TVJii2pwiI"
   },
   "outputs": [],
   "source": []
  },
  {
   "cell_type": "code",
   "execution_count": null,
   "metadata": {
    "id": "7mVUaw1um9hH"
   },
   "outputs": [],
   "source": [
    "\n"
   ]
  },
  {
   "cell_type": "markdown",
   "metadata": {
    "id": "c-zATg3NnlKo"
   },
   "source": [
    "## Exercise  6. Prediction for test data (2 Mark)"
   ]
  },
  {
   "cell_type": "code",
   "execution_count": null,
   "metadata": {
    "id": "bvDpq5EHnkcB"
   },
   "outputs": [],
   "source": []
  }
 ],
 "metadata": {
  "colab": {
   "private_outputs": true,
   "provenance": []
  },
  "gpuClass": "standard",
  "kernelspec": {
   "display_name": ".venv",
   "language": "python",
   "name": "python3"
  },
  "language_info": {
   "codemirror_mode": {
    "name": "ipython",
    "version": 3
   },
   "file_extension": ".py",
   "mimetype": "text/x-python",
   "name": "python",
   "nbconvert_exporter": "python",
   "pygments_lexer": "ipython3",
   "version": "3.11.10"
  }
 },
 "nbformat": 4,
 "nbformat_minor": 4
}
