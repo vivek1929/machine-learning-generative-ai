{
 "cells": [
  {
   "cell_type": "markdown",
   "metadata": {
    "id": "1fFBQGayWHR8"
   },
   "source": [
    "### Dataset Decription:\n",
    "The dataset is originally from the National Institute of Diabetes and Digestive and Kidney Diseases. The objective of the dataset is to diagnostically predict whether or not a patient has diabetes, based on certain diagnostic measurements included in the dataset. Several constraints were placed on the selection of these instances from a larger database. In particular, all patients here are females at least 21 years old of Pima Indian heritage.\n",
    "\n",
    "The datasets consists of several medical predictor variables and one target variable, Outcome.\n",
    "\n",
    "    Preg: Number of times pregnant\n",
    "    Glucose: Plasma glucose concentration a 2 hours in an oral glucose tolerance test\n",
    "    BloodPressure: Diastolic blood pressure (mm Hg)\n",
    "    SkinThickness: Triceps skin fold thickness (mm)\n",
    "    Insulin: 2-Hour serum insulin (mu U/ml)\n",
    "    BMI: Body mass index (weight in kg/(height in m)^2)\n",
    "    DiabetesPedigreeFunction: Diabetes pedigree function\n",
    "    Age: Age (years)\n",
    "    Outcome: Class variable (0 or 1)\n"
   ]
  },
  {
   "cell_type": "markdown",
   "metadata": {
    "id": "HDX5qQyNAxRR"
   },
   "source": [
    "### K-Fold Cross Validation\n",
    "\n",
    "\n",
    "The problem with machine learning models is that you won’t get to know how well a model performs until you test it's performance on an independent data set (the data set which was not used for training the machine learning model).\n",
    "\n",
    "Cross Validation comes in to picture here and helps us to estimate the performance of our model. One type of cross validation is the K-Fold Cross Validation\n",
    "\n",
    "In our experiment, we are using K-Fold Cross Validation  technique to reduce (limit) the problem of overfitting. K-Fold Cross Validation is a way to evaluate and improve the performance of our machine learning model. It helps to prevent from overfitting to a single train or test split.\n",
    "\n",
    "\n",
    "When we are given a machine learning problem, we will be given two types of data sets — known data (training data set) and unknown data (test data set). By using cross validation, you would be “testing” your machine learning model in the “training” phase to check for overfitting and to get an idea about how your machine learning model will generalize to independent data, which is the test data set given in the problem.\n",
    "\n",
    "\n",
    "In first round of cross validation, we have to divide our original training data set into two parts:\n",
    "\n",
    "1. Cross validation training set\n",
    "2. Cross validation testing set or Validation set\n",
    "\n",
    "<img src=\"https://cdn.talentsprint.com/aiml/Experiment_related_data/IMAGES/K-Fold.png\" alt=\"drawing\" width=\"500\"/>\n",
    "\n",
    "\n",
    "The above image represents how the K-Fold Cross Validation works. We divide the dataset in to \"K'' parts and will use the K-1 parts for training and remaining 1 for testing. We will rotate the test set and repeat the process for \"K\" times.\n",
    "\n",
    "we will train our machine learning model on the cross validation training set and test the model’s predictions against the validation set. we will get to know how accurate our machine learning model’s predictions are when we compare the model’s predictions on the validation set and the actual labels of the data points in the validation set.\n",
    "\n",
    "To reduce the variability, multiple rounds of cross validation are performed by using different cross validation training sets and cross validation testing sets. The results from all the rounds are averaged to estimate the accuracy of the machine learning model.\n",
    "\n",
    "**K-fold cross validation is performed as per the following steps:**\n",
    "\n",
    "1. Randomly split the entire training dataset into k subsets.\n",
    "2. Reserve one block as our test data\n",
    "3. Train on each of the remaining K-1 blocks\n",
    "4. Measure the performance against the test set\n",
    "5. The average of our K recorded errors is called the cross-validation error and it will be used as a performance metric for the model\n",
    "\n"
   ]
  },
  {
   "cell_type": "markdown",
   "metadata": {
    "id": "dcvKo4B1XNTX"
   },
   "source": [
    "### Leave One Out\n",
    "\n",
    "Leave One Out is a special form of Cross-Validation. In this method each sample is used once as a test set while the remaining samples for the training set. A generalization error estimate is obtained by repeating this procedure for each of the training points available, averaging the results."
   ]
  },
  {
   "cell_type": "markdown",
   "metadata": {
    "id": "sL7fUIUgEQki"
   },
   "source": [
    "## Importing Required Packages"
   ]
  },
  {
   "cell_type": "code",
   "execution_count": 1,
   "metadata": {
    "id": "X8bMSCmX8dLt"
   },
   "outputs": [],
   "source": [
    "import pandas as pd\n",
    "import numpy as np\n",
    "from sklearn.metrics import accuracy_score\n",
    "from sklearn.tree import DecisionTreeClassifier\n",
    "from sklearn.model_selection import KFold"
   ]
  },
  {
   "cell_type": "markdown",
   "metadata": {
    "id": "poIPmkrlhkOZ"
   },
   "source": [
    "### Prepare the model"
   ]
  },
  {
   "cell_type": "code",
   "execution_count": 2,
   "metadata": {
    "id": "n_M73bNAhz9w"
   },
   "outputs": [
    {
     "data": {
      "text/html": [
       "<div>\n",
       "<style scoped>\n",
       "    .dataframe tbody tr th:only-of-type {\n",
       "        vertical-align: middle;\n",
       "    }\n",
       "\n",
       "    .dataframe tbody tr th {\n",
       "        vertical-align: top;\n",
       "    }\n",
       "\n",
       "    .dataframe thead th {\n",
       "        text-align: right;\n",
       "    }\n",
       "</style>\n",
       "<table border=\"1\" class=\"dataframe\">\n",
       "  <thead>\n",
       "    <tr style=\"text-align: right;\">\n",
       "      <th></th>\n",
       "      <th>Pregnancies</th>\n",
       "      <th>Glucose</th>\n",
       "      <th>BloodPressure</th>\n",
       "      <th>SkinThickness</th>\n",
       "      <th>Insulin</th>\n",
       "      <th>BMI</th>\n",
       "      <th>DiabetesPedigreeFunction</th>\n",
       "      <th>Age</th>\n",
       "      <th>Outcome</th>\n",
       "    </tr>\n",
       "  </thead>\n",
       "  <tbody>\n",
       "    <tr>\n",
       "      <th>0</th>\n",
       "      <td>6</td>\n",
       "      <td>148</td>\n",
       "      <td>72</td>\n",
       "      <td>35</td>\n",
       "      <td>0</td>\n",
       "      <td>33.6</td>\n",
       "      <td>0.627</td>\n",
       "      <td>50</td>\n",
       "      <td>1</td>\n",
       "    </tr>\n",
       "    <tr>\n",
       "      <th>1</th>\n",
       "      <td>1</td>\n",
       "      <td>85</td>\n",
       "      <td>66</td>\n",
       "      <td>29</td>\n",
       "      <td>0</td>\n",
       "      <td>26.6</td>\n",
       "      <td>0.351</td>\n",
       "      <td>31</td>\n",
       "      <td>0</td>\n",
       "    </tr>\n",
       "    <tr>\n",
       "      <th>2</th>\n",
       "      <td>8</td>\n",
       "      <td>183</td>\n",
       "      <td>64</td>\n",
       "      <td>0</td>\n",
       "      <td>0</td>\n",
       "      <td>23.3</td>\n",
       "      <td>0.672</td>\n",
       "      <td>32</td>\n",
       "      <td>1</td>\n",
       "    </tr>\n",
       "    <tr>\n",
       "      <th>3</th>\n",
       "      <td>1</td>\n",
       "      <td>89</td>\n",
       "      <td>66</td>\n",
       "      <td>23</td>\n",
       "      <td>94</td>\n",
       "      <td>28.1</td>\n",
       "      <td>0.167</td>\n",
       "      <td>21</td>\n",
       "      <td>0</td>\n",
       "    </tr>\n",
       "    <tr>\n",
       "      <th>4</th>\n",
       "      <td>0</td>\n",
       "      <td>137</td>\n",
       "      <td>40</td>\n",
       "      <td>35</td>\n",
       "      <td>168</td>\n",
       "      <td>43.1</td>\n",
       "      <td>2.288</td>\n",
       "      <td>33</td>\n",
       "      <td>1</td>\n",
       "    </tr>\n",
       "  </tbody>\n",
       "</table>\n",
       "</div>"
      ],
      "text/plain": [
       "   Pregnancies  Glucose  BloodPressure  SkinThickness  Insulin   BMI  \\\n",
       "0            6      148             72             35        0  33.6   \n",
       "1            1       85             66             29        0  26.6   \n",
       "2            8      183             64              0        0  23.3   \n",
       "3            1       89             66             23       94  28.1   \n",
       "4            0      137             40             35      168  43.1   \n",
       "\n",
       "   DiabetesPedigreeFunction  Age  Outcome  \n",
       "0                     0.627   50        1  \n",
       "1                     0.351   31        0  \n",
       "2                     0.672   32        1  \n",
       "3                     0.167   21        0  \n",
       "4                     2.288   33        1  "
      ]
     },
     "execution_count": 2,
     "metadata": {},
     "output_type": "execute_result"
    }
   ],
   "source": [
    "diabetes_data = pd.read_csv(\"./dataset/diabetes.csv\")\n",
    "diabetes_data.head()"
   ]
  },
  {
   "cell_type": "markdown",
   "metadata": {
    "id": "S3dyABY0w4lc"
   },
   "source": [
    "Extracting features and labels from the diabetes data"
   ]
  },
  {
   "cell_type": "code",
   "execution_count": 3,
   "metadata": {
    "id": "hayszB8hiHru"
   },
   "outputs": [
    {
     "data": {
      "text/plain": [
       "((768, 8), (768,))"
      ]
     },
     "execution_count": 3,
     "metadata": {},
     "output_type": "execute_result"
    }
   ],
   "source": [
    "x_data = diabetes_data.iloc[:,:-1].values\n",
    "y_data = diabetes_data.iloc[:,-1].values\n",
    "x_data.shape, y_data.shape"
   ]
  },
  {
   "cell_type": "markdown",
   "metadata": {
    "id": "YsvmnJKGnrw4"
   },
   "source": [
    "### Apply KFold"
   ]
  },
  {
   "cell_type": "code",
   "execution_count": 4,
   "metadata": {
    "id": "hP7NHTZ_KLfu"
   },
   "outputs": [],
   "source": [
    "def crossvalidation(data):\n",
    "    scores_Test = []\n",
    "    for train_index, test_index in data.split(x_data):\n",
    "        # Split the data into train and test\n",
    "        x_train, x_test = x_data[train_index], x_data[test_index]\n",
    "        y_train, y_test  = y_data[train_index], y_data[test_index]\n",
    "\n",
    "        # Create DecisionTree classifier object with hyper parameters\n",
    "        decision_tree2 = DecisionTreeClassifier(max_depth=2)\n",
    "\n",
    "        # Fit the data into the model\n",
    "        decision_tree2.fit(x_train, y_train)\n",
    "        scores_Test.append(decision_tree2.score(x_test, y_test))\n",
    "    print(\"Average score of the Testing set %.2f\"%np.mean(scores_Test))"
   ]
  },
  {
   "cell_type": "code",
   "execution_count": 5,
   "metadata": {
    "id": "dzcT5VNWV_P8"
   },
   "outputs": [
    {
     "name": "stdout",
     "output_type": "stream",
     "text": [
      "Average score of the Testing set 0.76\n"
     ]
    }
   ],
   "source": [
    "# Set the KFold module for 5 splits:\n",
    "# KFold splits the data into 5 folds\n",
    "# shuffle=False by default, so splits are made in order\n",
    "# random_state=None by default, so splits are deterministic\n",
    "kf = KFold(n_splits=5)  # Creates 5 splits of 80% train, 20% test data\n",
    "\n",
    "# The output will be:\n",
    "# Average score of the Testing set 0.XX\n",
    "# Where XX is the average accuracy score across the 5 folds\n",
    "# Each fold splits the data into 80% training (614 samples) and 20% testing (154 samples)\n",
    "\n",
    "# crossvalidation function returns the average score of the test data\n",
    "crossvalidation(kf)"
   ]
  }
 ],
 "metadata": {
  "colab": {
   "provenance": []
  },
  "kernelspec": {
   "display_name": "Python 3 (ipykernel)",
   "language": "python",
   "name": "python3"
  },
  "language_info": {
   "codemirror_mode": {
    "name": "ipython",
    "version": 3
   },
   "file_extension": ".py",
   "mimetype": "text/x-python",
   "name": "python",
   "nbconvert_exporter": "python",
   "pygments_lexer": "ipython3",
   "version": "3.11.10"
  }
 },
 "nbformat": 4,
 "nbformat_minor": 4
}
