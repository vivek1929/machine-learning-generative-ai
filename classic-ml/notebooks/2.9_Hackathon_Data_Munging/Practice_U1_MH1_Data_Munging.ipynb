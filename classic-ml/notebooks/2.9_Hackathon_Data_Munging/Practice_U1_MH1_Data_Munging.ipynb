{
  "cells": [
    {
      "cell_type": "markdown",
      "metadata": {
        "id": "RWR22OAlTBlU"
      },
      "source": [
        "# Advanced Certification in AIML\n",
        "## A Program by IIIT-H and TalentSprint\n",
        "\n"
      ]
    },
    {
      "cell_type": "markdown",
      "metadata": {
        "id": "DIfh2REWFr6p"
      },
      "source": [
        "## Learning Objective"
      ]
    },
    {
      "cell_type": "markdown",
      "metadata": {
        "id": "LrIlNFZeKMsx"
      },
      "source": [
        "At the end of this experiment, you will be able to:\n",
        "\n",
        "* perform Data preprocessing"
      ]
    },
    {
      "cell_type": "code",
      "execution_count": null,
      "metadata": {
        "cellView": "form",
        "colab": {
          "base_uri": "https://localhost:8080/",
          "height": 442
        },
        "id": "nYG9AXM_oe--",
        "outputId": "08647784-daef-4af6-81b7-5845670e3501"
      },
      "outputs": [
        {
          "data": {
            "text/html": [
              "<video width=\"640\" height=\"420\" controls>\n",
              "  <source src=\"https://cdn.talentsprint.com/talentsprint/archives/sc/aiml/aiml_batch_15/preview_videos/Mini_Hackathon_Data_Munging_Briefing.mp4\" type=\"video/mp4\">\n",
              "</video>\n"
            ],
            "text/plain": [
              "<IPython.core.display.HTML object>"
            ]
          },
          "execution_count": 63,
          "metadata": {},
          "output_type": "execute_result"
        }
      ],
      "source": [
        "try:\n",
        "    import google.colab\n",
        "    IN_COLAB = True\n",
        "    print(\"Running in Google Colab\")\n",
        "except ImportError:\n",
        "    IN_COLAB = False\n",
        "    print(\"Running in Local Jupyter\")\n",
        "\n",
        "\n",
        "#@title  Mini Hackathon Walkthrough\n",
        "from IPython.display import HTML\n",
        "\n",
        "HTML(\"\"\"<video width=\"640\" height=\"420\" controls>\n",
        "  <source src=\"https://cdn.talentsprint.com/talentsprint/archives/sc/aiml/aiml_batch_15/preview_videos/Mini_Hackathon_Data_Munging_Briefing.mp4\" type=\"video/mp4\">\n",
        "</video>\n",
        "\"\"\")"
      ]
    },
    {
      "cell_type": "markdown",
      "metadata": {
        "id": "V3vgcWwOF2cK"
      },
      "source": [
        "## Problem Statement"
      ]
    },
    {
      "cell_type": "markdown",
      "metadata": {
        "id": "mfv616s92gl_"
      },
      "source": [
        "We will be using district wise demographics, enrollments, and teacher indicator data to predict whether the literacy rate is high/ medium/ low in each district."
      ]
    },
    {
      "cell_type": "markdown",
      "metadata": {
        "id": "md2IjdMdGCWm"
      },
      "source": [
        "### Data Preprocessing"
      ]
    },
    {
      "cell_type": "markdown",
      "metadata": {
        "id": "3B5ztQVbKMsz"
      },
      "source": [
        "Data preprocessing is an important step in solving every machine learning problem. Most of\n",
        "the datasets used with Machine Learning problems need to be processed / cleaned / transformed\n",
        "so that a Machine Learning algorithm can be trained on it."
      ]
    },
    {
      "cell_type": "markdown",
      "metadata": {
        "id": "QsxaJLZAKMs0"
      },
      "source": [
        "There are different steps involved in Data Preprocessing. These steps are as follows:"
      ]
    },
    {
      "cell_type": "markdown",
      "metadata": {
        "id": "QF3Eg-5pKMs1"
      },
      "source": [
        "    1. Data Cleaning → In this step the primary focus is on\n",
        "        - Handling missing data\n",
        "        - Handling noisy data\n",
        "        - Detection and removal of outliers\n",
        "    \n",
        "    2. Data Integration → This process is used when data is gathered from various data sources and data are combined to form consistent data.\n",
        "    This data after performing cleaning is used for analysis.\n",
        "    \n",
        "    3. Data Transformation → In this step we will convert the raw data into a specified format according to the need of the model we are building.\n",
        "    There are many options used for transforming the data as below:\n",
        "        - Normalization\n",
        "        - Aggregation\n",
        "        - Generalization\n",
        "        \n",
        "    4. Data Reduction → Following data transformation and scaling, the redundancy within the data is removed and is organized efficiently.\n",
        "\n"
      ]
    },
    {
      "cell_type": "markdown",
      "metadata": {
        "id": "Qk0G-I3iKMs2"
      },
      "source": [
        "### Total Marks  = 20"
      ]
    },
    {
      "cell_type": "code",
      "execution_count": null,
      "metadata": {
        "cellView": "form",
        "colab": {
          "base_uri": "https://localhost:8080/"
        },
        "id": "4UpjelxSBoGN",
        "outputId": "9e60e704-b25e-479a-9d6f-97de5abd820e"
      },
      "outputs": [
        {
          "name": "stdout",
          "output_type": "stream",
          "text": [
            "Data downloaded successfully\n"
          ]
        }
      ],
      "source": [
        "# @title Download the datasets\n",
        "from IPython import get_ipython\n",
        "\n",
        "ipython = get_ipython()\n",
        "\n",
        "notebook=\"U1_MH1_Data_Munging\" #name of the notebook\n",
        "\n",
        "def setup():\n",
        "    from IPython.display import HTML, display\n",
        "    ipython.magic(\"sx wget https://cdn.iiith.talentsprint.com/aiml/Experiment_related_data/B15_Data_Munging.zip\")\n",
        "    ipython.magic(\"sx unzip B15_Data_Munging.zip\")\n",
        "    print(\"Data downloaded successfully\")\n",
        "    return\n",
        "\n",
        "setup()"
      ]
    },
    {
      "cell_type": "code",
      "execution_count": null,
      "metadata": {
        "id": "e7VD8dJgGhVw"
      },
      "outputs": [],
      "source": [
        "!ls"
      ]
    },
    {
      "cell_type": "markdown",
      "metadata": {
        "id": "hZSlj_nWKMs4"
      },
      "source": [
        "## Exercise 1 - Load and Explore the Data (3 Marks)\n",
        "1. We have three different files\n",
        "\n",
        "  * Districtwise_Basicdata.csv\n",
        "  * Districtwise_Enrollment_details_indicator.csv\n",
        "  * Districtwise_Teacher_indicator.csv\n",
        "\n",
        "  These files contain the necessary data to solve the problem. <br>\n",
        "\n",
        "2. Load the files based on **team allocation** mentioned below. Observe the header level details, data records while loading the data.\n",
        "  \n",
        "  Hint : Use read_csv from pandas with [skiprows or header](https://towardsdatascience.com/import-csv-files-as-pandas-dataframe-with-skiprows-skipfooter-usecols-index-col-and-header-fbf67a2f92a) options.\n",
        "\n",
        "3. Read the columns of the dataset and rename them if required.\n",
        "\n",
        "  Hint : Rename column names (if any) using the following [link](https://pandas.pydata.org/pandas-docs/stable/reference/api/pandas.DataFrame.rename.html)."
      ]
    },
    {
      "cell_type": "markdown",
      "metadata": {
        "id": "L7xw5qs68uWE"
      },
      "source": [
        "Team allocation for dataset selection\n",
        "\n",
        "    Team A = 1,3,5,7,9,11,13,15,17,19,21,23,25,27,29,31,33\n",
        "        Districtwise_Basicdata.csv\n",
        "        Districtwise_Enrollment_details_indicator.csv\n",
        "\n",
        "    Team B = 2,4,6,8,10,12,14,16,18,20,22,24,26,28,30,32\n",
        "        Districtwise_Basicdata.csv\n",
        "        Districtwise_Teacher_indicator.csv"
      ]
    },
    {
      "cell_type": "code",
      "execution_count": null,
      "metadata": {
        "id": "_XRregSb9wdB"
      },
      "outputs": [],
      "source": [
        "# Importing all the required packages and add necessary imports if required\n",
        "import pandas as pd\n",
        "import numpy as np"
      ]
    },
    {
      "cell_type": "code",
      "execution_count": null,
      "metadata": {
        "id": "BTa03XxywTT4"
      },
      "outputs": [],
      "source": [
        "# YOUR CODE HERE for loading and exploring the datasets\n",
        "df1 = pd.read_csv('Districtwise_Basicdata.csv',skiprows=1)\n",
        "df2 = pd.read_csv('Districtwise_Teacher_indicator.csv',skiprows=3)"
      ]
    },
    {
      "cell_type": "code",
      "execution_count": null,
      "metadata": {
        "colab": {
          "base_uri": "https://localhost:8080/",
          "height": 504
        },
        "id": "kF3t3FcmwagZ",
        "outputId": "98919de8-39ef-4f43-a8a4-fd33189a6212"
      },
      "outputs": [
        {
          "data": {
            "application/vnd.google.colaboratory.intrinsic+json": {
              "summary": "{\n  \"name\": \"df1\",\n  \"rows\": 1324,\n  \"fields\": [\n    {\n      \"column\": \"Year\",\n      \"properties\": {\n        \"dtype\": \"category\",\n        \"num_unique_values\": 2,\n        \"samples\": [\n          \"2013-14\",\n          \"2012-13\"\n        ],\n        \"semantic_type\": \"\",\n        \"description\": \"\"\n      }\n    },\n    {\n      \"column\": \"Statecd\",\n      \"properties\": {\n        \"dtype\": \"number\",\n        \"std\": 9,\n        \"min\": 1,\n        \"max\": 35,\n        \"num_unique_values\": 35,\n        \"samples\": [\n          34,\n          2\n        ],\n        \"semantic_type\": \"\",\n        \"description\": \"\"\n      }\n    },\n    {\n      \"column\": \"statename\",\n      \"properties\": {\n        \"dtype\": \"category\",\n        \"num_unique_values\": 37,\n        \"samples\": [\n          \"KERALA                                            \",\n          \"HIMACHAL PRADESH                                  \"\n        ],\n        \"semantic_type\": \"\",\n        \"description\": \"\"\n      }\n    },\n    {\n      \"column\": \"distcd\",\n      \"properties\": {\n        \"dtype\": \"number\",\n        \"std\": 933,\n        \"min\": 101,\n        \"max\": 3503,\n        \"num_unique_values\": 662,\n        \"samples\": [\n          2329,\n          947\n        ],\n        \"semantic_type\": \"\",\n        \"description\": \"\"\n      }\n    },\n    {\n      \"column\": \"distname\",\n      \"properties\": {\n        \"dtype\": \"string\",\n        \"num_unique_values\": 662,\n        \"samples\": [\n          \"KHARGONE                                          \",\n          \"FATEHPUR                                          \"\n        ],\n        \"semantic_type\": \"\",\n        \"description\": \"\"\n      }\n    },\n    {\n      \"column\": \"blocks\",\n      \"properties\": {\n        \"dtype\": \"number\",\n        \"std\": 9,\n        \"min\": 1,\n        \"max\": 66,\n        \"num_unique_values\": 48,\n        \"samples\": [\n          2,\n          40\n        ],\n        \"semantic_type\": \"\",\n        \"description\": \"\"\n      }\n    },\n    {\n      \"column\": \"clusters\",\n      \"properties\": {\n        \"dtype\": \"number\",\n        \"std\": 100,\n        \"min\": 1,\n        \"max\": 680,\n        \"num_unique_values\": 329,\n        \"samples\": [\n          92,\n          147\n        ],\n        \"semantic_type\": \"\",\n        \"description\": \"\"\n      }\n    },\n    {\n      \"column\": \"villages\",\n      \"properties\": {\n        \"dtype\": \"number\",\n        \"std\": 627,\n        \"min\": 6,\n        \"max\": 3987,\n        \"num_unique_values\": 901,\n        \"samples\": [\n          1471,\n          595\n        ],\n        \"semantic_type\": \"\",\n        \"description\": \"\"\n      }\n    },\n    {\n      \"column\": \"totschools\",\n      \"properties\": {\n        \"dtype\": \"number\",\n        \"std\": 1434,\n        \"min\": 31,\n        \"max\": 9581,\n        \"num_unique_values\": 1113,\n        \"samples\": [\n          2922,\n          429\n        ],\n        \"semantic_type\": \"\",\n        \"description\": \"\"\n      }\n    },\n    {\n      \"column\": \"totpopulation\",\n      \"properties\": {\n        \"dtype\": \"number\",\n        \"std\": 1546864.6418507278,\n        \"min\": 7948.0,\n        \"max\": 11054131.0,\n        \"num_unique_values\": 634,\n        \"samples\": [\n          64875.0,\n          1700018.0\n        ],\n        \"semantic_type\": \"\",\n        \"description\": \"\"\n      }\n    },\n    {\n      \"column\": \"p_06_pop\",\n      \"properties\": {\n        \"dtype\": \"number\",\n        \"std\": 199910.3258391516,\n        \"min\": 1103.98,\n        \"max\": 1256854.69,\n        \"num_unique_values\": 633,\n        \"samples\": [\n          213241.77,\n          341871.71\n        ],\n        \"semantic_type\": \"\",\n        \"description\": \"\"\n      }\n    },\n    {\n      \"column\": \"p_urb_pop\",\n      \"properties\": {\n        \"dtype\": \"number\",\n        \"std\": 19.08617169056224,\n        \"min\": -25.35,\n        \"max\": 100.0,\n        \"num_unique_values\": 580,\n        \"samples\": [\n          11.65,\n          78.02\n        ],\n        \"semantic_type\": \"\",\n        \"description\": \"\"\n      }\n    },\n    {\n      \"column\": \"sexratio\",\n      \"properties\": {\n        \"dtype\": \"number\",\n        \"std\": 62.39113783148676,\n        \"min\": 533.0,\n        \"max\": 1176.0,\n        \"num_unique_values\": 215,\n        \"samples\": [\n          1001.0,\n          1103.0\n        ],\n        \"semantic_type\": \"\",\n        \"description\": \"\"\n      }\n    },\n    {\n      \"column\": \"sexratio_06\",\n      \"properties\": {\n        \"dtype\": \"number\",\n        \"std\": 44.169347179823575,\n        \"min\": 774.0,\n        \"max\": 1029.0,\n        \"num_unique_values\": 172,\n        \"samples\": [\n          877.0,\n          801.0\n        ],\n        \"semantic_type\": \"\",\n        \"description\": \"\"\n      }\n    },\n    {\n      \"column\": \"growthrate\",\n      \"properties\": {\n        \"dtype\": \"number\",\n        \"std\": 11.341541119312094,\n        \"min\": -58.39,\n        \"max\": 111.01,\n        \"num_unique_values\": 566,\n        \"samples\": [\n          27.27,\n          22.53\n        ],\n        \"semantic_type\": \"\",\n        \"description\": \"\"\n      }\n    },\n    {\n      \"column\": \"p_sc_pop\",\n      \"properties\": {\n        \"dtype\": \"number\",\n        \"std\": 9.107576855291692,\n        \"min\": 0.0,\n        \"max\": 50.17,\n        \"num_unique_values\": 532,\n        \"samples\": [\n          19.59,\n          19.89\n        ],\n        \"semantic_type\": \"\",\n        \"description\": \"\"\n      }\n    },\n    {\n      \"column\": \"p_st_pop\",\n      \"properties\": {\n        \"dtype\": \"number\",\n        \"std\": 26.94201266966175,\n        \"min\": 0.0,\n        \"max\": 98.58,\n        \"num_unique_values\": 460,\n        \"samples\": [\n          2.03,\n          70.53\n        ],\n        \"semantic_type\": \"\",\n        \"description\": \"\"\n      }\n    },\n    {\n      \"column\": \"overall_lit\",\n      \"properties\": {\n        \"dtype\": \"category\",\n        \"num_unique_values\": 3,\n        \"samples\": [\n          \"High\",\n          \"Low\"\n        ],\n        \"semantic_type\": \"\",\n        \"description\": \"\"\n      }\n    },\n    {\n      \"column\": \"female_lit\",\n      \"properties\": {\n        \"dtype\": \"number\",\n        \"std\": 12.497905102110918,\n        \"min\": 30.97,\n        \"max\": 98.28,\n        \"num_unique_values\": 591,\n        \"samples\": [\n          57.48,\n          81.81\n        ],\n        \"semantic_type\": \"\",\n        \"description\": \"\"\n      }\n    }\n  ]\n}",
              "type": "dataframe",
              "variable_name": "df1"
            },
            "text/html": [
              "\n",
              "  <div id=\"df-60d76151-d1f7-4686-a8c0-e52dbcf04c9f\" class=\"colab-df-container\">\n",
              "    <div>\n",
              "<style scoped>\n",
              "    .dataframe tbody tr th:only-of-type {\n",
              "        vertical-align: middle;\n",
              "    }\n",
              "\n",
              "    .dataframe tbody tr th {\n",
              "        vertical-align: top;\n",
              "    }\n",
              "\n",
              "    .dataframe thead th {\n",
              "        text-align: right;\n",
              "    }\n",
              "</style>\n",
              "<table border=\"1\" class=\"dataframe\">\n",
              "  <thead>\n",
              "    <tr style=\"text-align: right;\">\n",
              "      <th></th>\n",
              "      <th>Year</th>\n",
              "      <th>Statecd</th>\n",
              "      <th>statename</th>\n",
              "      <th>distcd</th>\n",
              "      <th>distname</th>\n",
              "      <th>blocks</th>\n",
              "      <th>clusters</th>\n",
              "      <th>villages</th>\n",
              "      <th>totschools</th>\n",
              "      <th>totpopulation</th>\n",
              "      <th>p_06_pop</th>\n",
              "      <th>p_urb_pop</th>\n",
              "      <th>sexratio</th>\n",
              "      <th>sexratio_06</th>\n",
              "      <th>growthrate</th>\n",
              "      <th>p_sc_pop</th>\n",
              "      <th>p_st_pop</th>\n",
              "      <th>overall_lit</th>\n",
              "      <th>female_lit</th>\n",
              "    </tr>\n",
              "  </thead>\n",
              "  <tbody>\n",
              "    <tr>\n",
              "      <th>0</th>\n",
              "      <td>2012-13</td>\n",
              "      <td>35</td>\n",
              "      <td>ANDAMAN &amp; NICOBAR ISLANDS                     ...</td>\n",
              "      <td>3501</td>\n",
              "      <td>ANDAMANS                                      ...</td>\n",
              "      <td>3</td>\n",
              "      <td>16</td>\n",
              "      <td>83</td>\n",
              "      <td>212</td>\n",
              "      <td>237586.0</td>\n",
              "      <td>23616.05</td>\n",
              "      <td>55.89</td>\n",
              "      <td>874.0</td>\n",
              "      <td>980.0</td>\n",
              "      <td>13.97</td>\n",
              "      <td>0.00</td>\n",
              "      <td>1.72</td>\n",
              "      <td>High</td>\n",
              "      <td>84.52</td>\n",
              "    </tr>\n",
              "    <tr>\n",
              "      <th>1</th>\n",
              "      <td>2012-13</td>\n",
              "      <td>35</td>\n",
              "      <td>ANDAMAN &amp; NICOBAR ISLANDS                     ...</td>\n",
              "      <td>3503</td>\n",
              "      <td>MIDDLE AND NORTH ANDAMANS                     ...</td>\n",
              "      <td>3</td>\n",
              "      <td>13</td>\n",
              "      <td>76</td>\n",
              "      <td>181</td>\n",
              "      <td>105539.0</td>\n",
              "      <td>11651.51</td>\n",
              "      <td>2.60</td>\n",
              "      <td>925.0</td>\n",
              "      <td>975.0</td>\n",
              "      <td>-0.07</td>\n",
              "      <td>0.00</td>\n",
              "      <td>0.72</td>\n",
              "      <td>High</td>\n",
              "      <td>79.39</td>\n",
              "    </tr>\n",
              "    <tr>\n",
              "      <th>2</th>\n",
              "      <td>2012-13</td>\n",
              "      <td>35</td>\n",
              "      <td>ANDAMAN &amp; NICOBAR ISLANDS                     ...</td>\n",
              "      <td>3502</td>\n",
              "      <td>NICOBARS                                      ...</td>\n",
              "      <td>3</td>\n",
              "      <td>8</td>\n",
              "      <td>42</td>\n",
              "      <td>58</td>\n",
              "      <td>36819.0</td>\n",
              "      <td>4226.82</td>\n",
              "      <td>0.00</td>\n",
              "      <td>778.0</td>\n",
              "      <td>961.0</td>\n",
              "      <td>-12.48</td>\n",
              "      <td>0.00</td>\n",
              "      <td>64.28</td>\n",
              "      <td>High</td>\n",
              "      <td>70.70</td>\n",
              "    </tr>\n",
              "    <tr>\n",
              "      <th>3</th>\n",
              "      <td>2012-13</td>\n",
              "      <td>28</td>\n",
              "      <td>ANDHRA PRADESH                                ...</td>\n",
              "      <td>2801</td>\n",
              "      <td>ADILABAD                                      ...</td>\n",
              "      <td>52</td>\n",
              "      <td>356</td>\n",
              "      <td>1576</td>\n",
              "      <td>4983</td>\n",
              "      <td>2737738.0</td>\n",
              "      <td>295675.70</td>\n",
              "      <td>27.68</td>\n",
              "      <td>1003.0</td>\n",
              "      <td>942.0</td>\n",
              "      <td>10.04</td>\n",
              "      <td>17.82</td>\n",
              "      <td>18.09</td>\n",
              "      <td>Low</td>\n",
              "      <td>51.99</td>\n",
              "    </tr>\n",
              "    <tr>\n",
              "      <th>4</th>\n",
              "      <td>2012-13</td>\n",
              "      <td>28</td>\n",
              "      <td>ANDHRA PRADESH                                ...</td>\n",
              "      <td>2822</td>\n",
              "      <td>ANANTAPUR                                     ...</td>\n",
              "      <td>63</td>\n",
              "      <td>564</td>\n",
              "      <td>929</td>\n",
              "      <td>5188</td>\n",
              "      <td>4083315.0</td>\n",
              "      <td>427114.75</td>\n",
              "      <td>28.09</td>\n",
              "      <td>977.0</td>\n",
              "      <td>927.0</td>\n",
              "      <td>12.16</td>\n",
              "      <td>14.29</td>\n",
              "      <td>3.78</td>\n",
              "      <td>Low</td>\n",
              "      <td>54.31</td>\n",
              "    </tr>\n",
              "  </tbody>\n",
              "</table>\n",
              "</div>\n",
              "    <div class=\"colab-df-buttons\">\n",
              "\n",
              "  <div class=\"colab-df-container\">\n",
              "    <button class=\"colab-df-convert\" onclick=\"convertToInteractive('df-60d76151-d1f7-4686-a8c0-e52dbcf04c9f')\"\n",
              "            title=\"Convert this dataframe to an interactive table.\"\n",
              "            style=\"display:none;\">\n",
              "\n",
              "  <svg xmlns=\"http://www.w3.org/2000/svg\" height=\"24px\" viewBox=\"0 -960 960 960\">\n",
              "    <path d=\"M120-120v-720h720v720H120Zm60-500h600v-160H180v160Zm220 220h160v-160H400v160Zm0 220h160v-160H400v160ZM180-400h160v-160H180v160Zm440 0h160v-160H620v160ZM180-180h160v-160H180v160Zm440 0h160v-160H620v160Z\"/>\n",
              "  </svg>\n",
              "    </button>\n",
              "\n",
              "  <style>\n",
              "    .colab-df-container {\n",
              "      display:flex;\n",
              "      gap: 12px;\n",
              "    }\n",
              "\n",
              "    .colab-df-convert {\n",
              "      background-color: #E8F0FE;\n",
              "      border: none;\n",
              "      border-radius: 50%;\n",
              "      cursor: pointer;\n",
              "      display: none;\n",
              "      fill: #1967D2;\n",
              "      height: 32px;\n",
              "      padding: 0 0 0 0;\n",
              "      width: 32px;\n",
              "    }\n",
              "\n",
              "    .colab-df-convert:hover {\n",
              "      background-color: #E2EBFA;\n",
              "      box-shadow: 0px 1px 2px rgba(60, 64, 67, 0.3), 0px 1px 3px 1px rgba(60, 64, 67, 0.15);\n",
              "      fill: #174EA6;\n",
              "    }\n",
              "\n",
              "    .colab-df-buttons div {\n",
              "      margin-bottom: 4px;\n",
              "    }\n",
              "\n",
              "    [theme=dark] .colab-df-convert {\n",
              "      background-color: #3B4455;\n",
              "      fill: #D2E3FC;\n",
              "    }\n",
              "\n",
              "    [theme=dark] .colab-df-convert:hover {\n",
              "      background-color: #434B5C;\n",
              "      box-shadow: 0px 1px 3px 1px rgba(0, 0, 0, 0.15);\n",
              "      filter: drop-shadow(0px 1px 2px rgba(0, 0, 0, 0.3));\n",
              "      fill: #FFFFFF;\n",
              "    }\n",
              "  </style>\n",
              "\n",
              "    <script>\n",
              "      const buttonEl =\n",
              "        document.querySelector('#df-60d76151-d1f7-4686-a8c0-e52dbcf04c9f button.colab-df-convert');\n",
              "      buttonEl.style.display =\n",
              "        google.colab.kernel.accessAllowed ? 'block' : 'none';\n",
              "\n",
              "      async function convertToInteractive(key) {\n",
              "        const element = document.querySelector('#df-60d76151-d1f7-4686-a8c0-e52dbcf04c9f');\n",
              "        const dataTable =\n",
              "          await google.colab.kernel.invokeFunction('convertToInteractive',\n",
              "                                                    [key], {});\n",
              "        if (!dataTable) return;\n",
              "\n",
              "        const docLinkHtml = 'Like what you see? Visit the ' +\n",
              "          '<a target=\"_blank\" href=https://colab.research.google.com/notebooks/data_table.ipynb>data table notebook</a>'\n",
              "          + ' to learn more about interactive tables.';\n",
              "        element.innerHTML = '';\n",
              "        dataTable['output_type'] = 'display_data';\n",
              "        await google.colab.output.renderOutput(dataTable, element);\n",
              "        const docLink = document.createElement('div');\n",
              "        docLink.innerHTML = docLinkHtml;\n",
              "        element.appendChild(docLink);\n",
              "      }\n",
              "    </script>\n",
              "  </div>\n",
              "\n",
              "\n",
              "    <div id=\"df-f1299d16-ce19-4212-bb2f-9d928811f396\">\n",
              "      <button class=\"colab-df-quickchart\" onclick=\"quickchart('df-f1299d16-ce19-4212-bb2f-9d928811f396')\"\n",
              "                title=\"Suggest charts\"\n",
              "                style=\"display:none;\">\n",
              "\n",
              "<svg xmlns=\"http://www.w3.org/2000/svg\" height=\"24px\"viewBox=\"0 0 24 24\"\n",
              "     width=\"24px\">\n",
              "    <g>\n",
              "        <path d=\"M19 3H5c-1.1 0-2 .9-2 2v14c0 1.1.9 2 2 2h14c1.1 0 2-.9 2-2V5c0-1.1-.9-2-2-2zM9 17H7v-7h2v7zm4 0h-2V7h2v10zm4 0h-2v-4h2v4z\"/>\n",
              "    </g>\n",
              "</svg>\n",
              "      </button>\n",
              "\n",
              "<style>\n",
              "  .colab-df-quickchart {\n",
              "      --bg-color: #E8F0FE;\n",
              "      --fill-color: #1967D2;\n",
              "      --hover-bg-color: #E2EBFA;\n",
              "      --hover-fill-color: #174EA6;\n",
              "      --disabled-fill-color: #AAA;\n",
              "      --disabled-bg-color: #DDD;\n",
              "  }\n",
              "\n",
              "  [theme=dark] .colab-df-quickchart {\n",
              "      --bg-color: #3B4455;\n",
              "      --fill-color: #D2E3FC;\n",
              "      --hover-bg-color: #434B5C;\n",
              "      --hover-fill-color: #FFFFFF;\n",
              "      --disabled-bg-color: #3B4455;\n",
              "      --disabled-fill-color: #666;\n",
              "  }\n",
              "\n",
              "  .colab-df-quickchart {\n",
              "    background-color: var(--bg-color);\n",
              "    border: none;\n",
              "    border-radius: 50%;\n",
              "    cursor: pointer;\n",
              "    display: none;\n",
              "    fill: var(--fill-color);\n",
              "    height: 32px;\n",
              "    padding: 0;\n",
              "    width: 32px;\n",
              "  }\n",
              "\n",
              "  .colab-df-quickchart:hover {\n",
              "    background-color: var(--hover-bg-color);\n",
              "    box-shadow: 0 1px 2px rgba(60, 64, 67, 0.3), 0 1px 3px 1px rgba(60, 64, 67, 0.15);\n",
              "    fill: var(--button-hover-fill-color);\n",
              "  }\n",
              "\n",
              "  .colab-df-quickchart-complete:disabled,\n",
              "  .colab-df-quickchart-complete:disabled:hover {\n",
              "    background-color: var(--disabled-bg-color);\n",
              "    fill: var(--disabled-fill-color);\n",
              "    box-shadow: none;\n",
              "  }\n",
              "\n",
              "  .colab-df-spinner {\n",
              "    border: 2px solid var(--fill-color);\n",
              "    border-color: transparent;\n",
              "    border-bottom-color: var(--fill-color);\n",
              "    animation:\n",
              "      spin 1s steps(1) infinite;\n",
              "  }\n",
              "\n",
              "  @keyframes spin {\n",
              "    0% {\n",
              "      border-color: transparent;\n",
              "      border-bottom-color: var(--fill-color);\n",
              "      border-left-color: var(--fill-color);\n",
              "    }\n",
              "    20% {\n",
              "      border-color: transparent;\n",
              "      border-left-color: var(--fill-color);\n",
              "      border-top-color: var(--fill-color);\n",
              "    }\n",
              "    30% {\n",
              "      border-color: transparent;\n",
              "      border-left-color: var(--fill-color);\n",
              "      border-top-color: var(--fill-color);\n",
              "      border-right-color: var(--fill-color);\n",
              "    }\n",
              "    40% {\n",
              "      border-color: transparent;\n",
              "      border-right-color: var(--fill-color);\n",
              "      border-top-color: var(--fill-color);\n",
              "    }\n",
              "    60% {\n",
              "      border-color: transparent;\n",
              "      border-right-color: var(--fill-color);\n",
              "    }\n",
              "    80% {\n",
              "      border-color: transparent;\n",
              "      border-right-color: var(--fill-color);\n",
              "      border-bottom-color: var(--fill-color);\n",
              "    }\n",
              "    90% {\n",
              "      border-color: transparent;\n",
              "      border-bottom-color: var(--fill-color);\n",
              "    }\n",
              "  }\n",
              "</style>\n",
              "\n",
              "      <script>\n",
              "        async function quickchart(key) {\n",
              "          const quickchartButtonEl =\n",
              "            document.querySelector('#' + key + ' button');\n",
              "          quickchartButtonEl.disabled = true;  // To prevent multiple clicks.\n",
              "          quickchartButtonEl.classList.add('colab-df-spinner');\n",
              "          try {\n",
              "            const charts = await google.colab.kernel.invokeFunction(\n",
              "                'suggestCharts', [key], {});\n",
              "          } catch (error) {\n",
              "            console.error('Error during call to suggestCharts:', error);\n",
              "          }\n",
              "          quickchartButtonEl.classList.remove('colab-df-spinner');\n",
              "          quickchartButtonEl.classList.add('colab-df-quickchart-complete');\n",
              "        }\n",
              "        (() => {\n",
              "          let quickchartButtonEl =\n",
              "            document.querySelector('#df-f1299d16-ce19-4212-bb2f-9d928811f396 button');\n",
              "          quickchartButtonEl.style.display =\n",
              "            google.colab.kernel.accessAllowed ? 'block' : 'none';\n",
              "        })();\n",
              "      </script>\n",
              "    </div>\n",
              "\n",
              "    </div>\n",
              "  </div>\n"
            ],
            "text/plain": [
              "      Year  Statecd                                          statename  \\\n",
              "0  2012-13       35  ANDAMAN & NICOBAR ISLANDS                     ...   \n",
              "1  2012-13       35  ANDAMAN & NICOBAR ISLANDS                     ...   \n",
              "2  2012-13       35  ANDAMAN & NICOBAR ISLANDS                     ...   \n",
              "3  2012-13       28  ANDHRA PRADESH                                ...   \n",
              "4  2012-13       28  ANDHRA PRADESH                                ...   \n",
              "\n",
              "   distcd                                           distname  blocks  \\\n",
              "0    3501  ANDAMANS                                      ...       3   \n",
              "1    3503  MIDDLE AND NORTH ANDAMANS                     ...       3   \n",
              "2    3502  NICOBARS                                      ...       3   \n",
              "3    2801  ADILABAD                                      ...      52   \n",
              "4    2822  ANANTAPUR                                     ...      63   \n",
              "\n",
              "   clusters  villages  totschools  totpopulation   p_06_pop  p_urb_pop  \\\n",
              "0        16        83         212       237586.0   23616.05      55.89   \n",
              "1        13        76         181       105539.0   11651.51       2.60   \n",
              "2         8        42          58        36819.0    4226.82       0.00   \n",
              "3       356      1576        4983      2737738.0  295675.70      27.68   \n",
              "4       564       929        5188      4083315.0  427114.75      28.09   \n",
              "\n",
              "   sexratio  sexratio_06  growthrate  p_sc_pop  p_st_pop overall_lit  \\\n",
              "0     874.0        980.0       13.97      0.00      1.72        High   \n",
              "1     925.0        975.0       -0.07      0.00      0.72        High   \n",
              "2     778.0        961.0      -12.48      0.00     64.28        High   \n",
              "3    1003.0        942.0       10.04     17.82     18.09         Low   \n",
              "4     977.0        927.0       12.16     14.29      3.78         Low   \n",
              "\n",
              "   female_lit  \n",
              "0       84.52  \n",
              "1       79.39  \n",
              "2       70.70  \n",
              "3       51.99  \n",
              "4       54.31  "
            ]
          },
          "execution_count": 4,
          "metadata": {},
          "output_type": "execute_result"
        }
      ],
      "source": [
        "# First 5 rows\n",
        "df1.head()"
      ]
    },
    {
      "cell_type": "code",
      "execution_count": null,
      "metadata": {
        "colab": {
          "base_uri": "https://localhost:8080/"
        },
        "id": "iAvAuioqwZz-",
        "outputId": "c7c4bb61-3078-460b-8ac0-1e406016dd88"
      },
      "outputs": [
        {
          "name": "stdout",
          "output_type": "stream",
          "text": [
            "Shape: (1324, 19)\n"
          ]
        }
      ],
      "source": [
        "\n",
        "# Shape of the data\n",
        "print(\"Shape:\", df1.shape)"
      ]
    },
    {
      "cell_type": "code",
      "execution_count": null,
      "metadata": {
        "colab": {
          "base_uri": "https://localhost:8080/"
        },
        "id": "MO0YqJp6wZnG",
        "outputId": "21300007-8429-4b49-9674-7fda8fb3ed43"
      },
      "outputs": [
        {
          "name": "stdout",
          "output_type": "stream",
          "text": [
            "Columns: ['Year', 'Statecd', 'statename', 'distcd', 'distname', 'blocks', 'clusters', 'villages', 'totschools', 'totpopulation', 'p_06_pop', 'p_urb_pop', 'sexratio', 'sexratio_06', 'growthrate', 'p_sc_pop', 'p_st_pop', 'overall_lit', 'female_lit']\n"
          ]
        }
      ],
      "source": [
        "# Column names\n",
        "print(\"Columns:\", df1.columns.tolist())"
      ]
    },
    {
      "cell_type": "code",
      "execution_count": null,
      "metadata": {
        "colab": {
          "base_uri": "https://localhost:8080/"
        },
        "id": "CFl27Nq1wZaL",
        "outputId": "ddcd4834-da0e-4790-9b9a-62c7014d50a9"
      },
      "outputs": [
        {
          "name": "stdout",
          "output_type": "stream",
          "text": [
            "Year              object\n",
            "Statecd            int64\n",
            "statename         object\n",
            "distcd             int64\n",
            "distname          object\n",
            "blocks             int64\n",
            "clusters           int64\n",
            "villages           int64\n",
            "totschools         int64\n",
            "totpopulation    float64\n",
            "p_06_pop         float64\n",
            "p_urb_pop        float64\n",
            "sexratio         float64\n",
            "sexratio_06      float64\n",
            "growthrate       float64\n",
            "p_sc_pop         float64\n",
            "p_st_pop         float64\n",
            "overall_lit       object\n",
            "female_lit       float64\n",
            "dtype: object\n"
          ]
        }
      ],
      "source": [
        "# Data types of each column\n",
        "print(df1.dtypes)"
      ]
    },
    {
      "cell_type": "code",
      "execution_count": null,
      "metadata": {
        "colab": {
          "base_uri": "https://localhost:8080/"
        },
        "id": "3Xu9rw9twluN",
        "outputId": "21b94276-a6e6-47de-a726-d97c1c648e10"
      },
      "outputs": [
        {
          "name": "stdout",
          "output_type": "stream",
          "text": [
            "           Statecd       distcd       blocks     clusters     villages  \\\n",
            "count  1324.000000  1324.000000  1324.000000  1324.000000  1324.000000   \n",
            "mean     17.108761  1727.391239    10.916918   126.652568   899.135952   \n",
            "std       9.341604   933.187369     9.661577   100.247178   627.269611   \n",
            "min       1.000000   101.000000     1.000000     1.000000     6.000000   \n",
            "25%       9.000000   933.000000     5.000000    58.750000   394.750000   \n",
            "50%      18.000000  1822.500000     8.000000   103.000000   821.500000   \n",
            "75%      24.000000  2410.000000    13.000000   167.000000  1232.000000   \n",
            "max      35.000000  3503.000000    66.000000   680.000000  3987.000000   \n",
            "\n",
            "        totschools  totpopulation      p_06_pop    p_urb_pop     sexratio  \\\n",
            "count  1324.000000   1.268000e+03  1.266000e+03  1262.000000  1268.000000   \n",
            "mean   2175.542296   1.899024e+06  2.511907e+05    24.819255   942.678233   \n",
            "std    1434.679991   1.546865e+06  1.999103e+05    19.086172    62.391138   \n",
            "min      31.000000   7.948000e+03  1.103980e+03   -25.350000   533.000000   \n",
            "25%    1101.000000   8.222390e+05  1.092651e+05    11.372500   904.000000   \n",
            "50%    1999.500000   1.564392e+06  2.049341e+05    19.500000   946.000000   \n",
            "75%    2948.250000   2.588039e+06  3.403791e+05    32.430000   981.000000   \n",
            "max    9581.000000   1.105413e+07  1.256855e+06   100.000000  1176.000000   \n",
            "\n",
            "       sexratio_06   growthrate     p_sc_pop     p_st_pop   female_lit  \n",
            "count  1266.000000  1268.000000  1256.000000  1256.000000  1268.000000  \n",
            "mean    918.813586    17.627886    14.830016    17.625032    64.619353  \n",
            "std      44.169347    11.341541     9.107577    26.942013    12.497905  \n",
            "min     774.000000   -58.390000     0.000000     0.000000    30.970000  \n",
            "25%     891.000000    12.050000     7.487500     0.360000    55.900000  \n",
            "50%     926.000000    17.055000    15.710000     4.165000    63.740000  \n",
            "75%     954.000000    22.740000    20.800000    21.430000    73.570000  \n",
            "max    1029.000000   111.010000    50.170000    98.580000    98.280000  \n"
          ]
        }
      ],
      "source": [
        "# Summary statistics\n",
        "print(df1.describe())"
      ]
    },
    {
      "cell_type": "code",
      "execution_count": null,
      "metadata": {
        "colab": {
          "base_uri": "https://localhost:8080/"
        },
        "id": "v_91zB7-wZHe",
        "outputId": "6e746f83-88f9-4df2-fc91-19f03d5fc190"
      },
      "outputs": [
        {
          "name": "stdout",
          "output_type": "stream",
          "text": [
            "totpopulation    56\n",
            "p_06_pop         58\n",
            "p_urb_pop        62\n",
            "sexratio         56\n",
            "sexratio_06      58\n",
            "growthrate       56\n",
            "p_sc_pop         68\n",
            "p_st_pop         68\n",
            "overall_lit      56\n",
            "female_lit       56\n",
            "dtype: int64\n"
          ]
        }
      ],
      "source": [
        "# Missing values\n",
        "print(df1.isnull().sum()[df1.isnull().sum()>0])"
      ]
    },
    {
      "cell_type": "code",
      "execution_count": null,
      "metadata": {
        "colab": {
          "base_uri": "https://localhost:8080/",
          "height": 533
        },
        "id": "vb-fo2eRwo9l",
        "outputId": "c7b519d5-7ce4-4572-abf9-5bb841a90369"
      },
      "outputs": [
        {
          "data": {
            "application/vnd.google.colaboratory.intrinsic+json": {
              "type": "dataframe",
              "variable_name": "df2"
            },
            "text/html": [
              "\n",
              "  <div id=\"df-9ac46285-8919-4fe9-a311-08ef43fe7459\" class=\"colab-df-container\">\n",
              "    <div>\n",
              "<style scoped>\n",
              "    .dataframe tbody tr th:only-of-type {\n",
              "        vertical-align: middle;\n",
              "    }\n",
              "\n",
              "    .dataframe tbody tr th {\n",
              "        vertical-align: top;\n",
              "    }\n",
              "\n",
              "    .dataframe thead th {\n",
              "        text-align: right;\n",
              "    }\n",
              "</style>\n",
              "<table border=\"1\" class=\"dataframe\">\n",
              "  <thead>\n",
              "    <tr style=\"text-align: right;\">\n",
              "      <th></th>\n",
              "      <th>statecd</th>\n",
              "      <th>statename</th>\n",
              "      <th>distcd</th>\n",
              "      <th>distname</th>\n",
              "      <th>ac_year</th>\n",
              "      <th>tch_govt1</th>\n",
              "      <th>tch_govt2</th>\n",
              "      <th>tch_govt3</th>\n",
              "      <th>tch_govt4</th>\n",
              "      <th>tch_govt5</th>\n",
              "      <th>...</th>\n",
              "      <th>trn_tch_f2</th>\n",
              "      <th>trn_tch_f3</th>\n",
              "      <th>trn_tch_f4</th>\n",
              "      <th>trn_tch_f5</th>\n",
              "      <th>trn_tch_f6</th>\n",
              "      <th>trn_tch_f7</th>\n",
              "      <th>prof_trn_tch_r</th>\n",
              "      <th>prof_trn_tch_p</th>\n",
              "      <th>days_nontch</th>\n",
              "      <th>tch_nontch</th>\n",
              "    </tr>\n",
              "  </thead>\n",
              "  <tbody>\n",
              "    <tr>\n",
              "      <th>0</th>\n",
              "      <td>35</td>\n",
              "      <td>ANDAMAN &amp; NICOBAR ISLANDS                     ...</td>\n",
              "      <td>3501</td>\n",
              "      <td>ANDAMANS                                      ...</td>\n",
              "      <td>2012-13</td>\n",
              "      <td>329</td>\n",
              "      <td>429</td>\n",
              "      <td>1097</td>\n",
              "      <td>0</td>\n",
              "      <td>127</td>\n",
              "      <td>...</td>\n",
              "      <td>176</td>\n",
              "      <td>135</td>\n",
              "      <td>0</td>\n",
              "      <td>22</td>\n",
              "      <td>103</td>\n",
              "      <td>0</td>\n",
              "      <td>2968</td>\n",
              "      <td>228</td>\n",
              "      <td>12</td>\n",
              "      <td>519</td>\n",
              "    </tr>\n",
              "    <tr>\n",
              "      <th>1</th>\n",
              "      <td>35</td>\n",
              "      <td>ANDAMAN &amp; NICOBAR ISLANDS                     ...</td>\n",
              "      <td>3503</td>\n",
              "      <td>MIDDLE AND NORTH ANDAMANS                     ...</td>\n",
              "      <td>2012-13</td>\n",
              "      <td>305</td>\n",
              "      <td>285</td>\n",
              "      <td>194</td>\n",
              "      <td>95</td>\n",
              "      <td>268</td>\n",
              "      <td>...</td>\n",
              "      <td>85</td>\n",
              "      <td>40</td>\n",
              "      <td>3</td>\n",
              "      <td>28</td>\n",
              "      <td>60</td>\n",
              "      <td>0</td>\n",
              "      <td>1249</td>\n",
              "      <td>203</td>\n",
              "      <td>8</td>\n",
              "      <td>362</td>\n",
              "    </tr>\n",
              "    <tr>\n",
              "      <th>2</th>\n",
              "      <td>35</td>\n",
              "      <td>ANDAMAN &amp; NICOBAR ISLANDS                     ...</td>\n",
              "      <td>3502</td>\n",
              "      <td>NICOBARS                                      ...</td>\n",
              "      <td>2012-13</td>\n",
              "      <td>110</td>\n",
              "      <td>95</td>\n",
              "      <td>56</td>\n",
              "      <td>0</td>\n",
              "      <td>135</td>\n",
              "      <td>...</td>\n",
              "      <td>29</td>\n",
              "      <td>23</td>\n",
              "      <td>0</td>\n",
              "      <td>17</td>\n",
              "      <td>46</td>\n",
              "      <td>0</td>\n",
              "      <td>430</td>\n",
              "      <td>78</td>\n",
              "      <td>20</td>\n",
              "      <td>28</td>\n",
              "    </tr>\n",
              "    <tr>\n",
              "      <th>3</th>\n",
              "      <td>28</td>\n",
              "      <td>ANDHRA PRADESH                                ...</td>\n",
              "      <td>2801</td>\n",
              "      <td>ADILABAD                                      ...</td>\n",
              "      <td>2012-13</td>\n",
              "      <td>4749</td>\n",
              "      <td>1788</td>\n",
              "      <td>38</td>\n",
              "      <td>0</td>\n",
              "      <td>22</td>\n",
              "      <td>...</td>\n",
              "      <td>267</td>\n",
              "      <td>0</td>\n",
              "      <td>0</td>\n",
              "      <td>0</td>\n",
              "      <td>8</td>\n",
              "      <td>248</td>\n",
              "      <td>16419</td>\n",
              "      <td>845</td>\n",
              "      <td>13</td>\n",
              "      <td>263</td>\n",
              "    </tr>\n",
              "    <tr>\n",
              "      <th>4</th>\n",
              "      <td>28</td>\n",
              "      <td>ANDHRA PRADESH                                ...</td>\n",
              "      <td>2822</td>\n",
              "      <td>ANANTAPUR                                     ...</td>\n",
              "      <td>2012-13</td>\n",
              "      <td>5797</td>\n",
              "      <td>2879</td>\n",
              "      <td>209</td>\n",
              "      <td>8</td>\n",
              "      <td>6733</td>\n",
              "      <td>...</td>\n",
              "      <td>726</td>\n",
              "      <td>0</td>\n",
              "      <td>0</td>\n",
              "      <td>591</td>\n",
              "      <td>0</td>\n",
              "      <td>3</td>\n",
              "      <td>21487</td>\n",
              "      <td>676</td>\n",
              "      <td>14</td>\n",
              "      <td>1185</td>\n",
              "    </tr>\n",
              "  </tbody>\n",
              "</table>\n",
              "<p>5 rows × 181 columns</p>\n",
              "</div>\n",
              "    <div class=\"colab-df-buttons\">\n",
              "\n",
              "  <div class=\"colab-df-container\">\n",
              "    <button class=\"colab-df-convert\" onclick=\"convertToInteractive('df-9ac46285-8919-4fe9-a311-08ef43fe7459')\"\n",
              "            title=\"Convert this dataframe to an interactive table.\"\n",
              "            style=\"display:none;\">\n",
              "\n",
              "  <svg xmlns=\"http://www.w3.org/2000/svg\" height=\"24px\" viewBox=\"0 -960 960 960\">\n",
              "    <path d=\"M120-120v-720h720v720H120Zm60-500h600v-160H180v160Zm220 220h160v-160H400v160Zm0 220h160v-160H400v160ZM180-400h160v-160H180v160Zm440 0h160v-160H620v160ZM180-180h160v-160H180v160Zm440 0h160v-160H620v160Z\"/>\n",
              "  </svg>\n",
              "    </button>\n",
              "\n",
              "  <style>\n",
              "    .colab-df-container {\n",
              "      display:flex;\n",
              "      gap: 12px;\n",
              "    }\n",
              "\n",
              "    .colab-df-convert {\n",
              "      background-color: #E8F0FE;\n",
              "      border: none;\n",
              "      border-radius: 50%;\n",
              "      cursor: pointer;\n",
              "      display: none;\n",
              "      fill: #1967D2;\n",
              "      height: 32px;\n",
              "      padding: 0 0 0 0;\n",
              "      width: 32px;\n",
              "    }\n",
              "\n",
              "    .colab-df-convert:hover {\n",
              "      background-color: #E2EBFA;\n",
              "      box-shadow: 0px 1px 2px rgba(60, 64, 67, 0.3), 0px 1px 3px 1px rgba(60, 64, 67, 0.15);\n",
              "      fill: #174EA6;\n",
              "    }\n",
              "\n",
              "    .colab-df-buttons div {\n",
              "      margin-bottom: 4px;\n",
              "    }\n",
              "\n",
              "    [theme=dark] .colab-df-convert {\n",
              "      background-color: #3B4455;\n",
              "      fill: #D2E3FC;\n",
              "    }\n",
              "\n",
              "    [theme=dark] .colab-df-convert:hover {\n",
              "      background-color: #434B5C;\n",
              "      box-shadow: 0px 1px 3px 1px rgba(0, 0, 0, 0.15);\n",
              "      filter: drop-shadow(0px 1px 2px rgba(0, 0, 0, 0.3));\n",
              "      fill: #FFFFFF;\n",
              "    }\n",
              "  </style>\n",
              "\n",
              "    <script>\n",
              "      const buttonEl =\n",
              "        document.querySelector('#df-9ac46285-8919-4fe9-a311-08ef43fe7459 button.colab-df-convert');\n",
              "      buttonEl.style.display =\n",
              "        google.colab.kernel.accessAllowed ? 'block' : 'none';\n",
              "\n",
              "      async function convertToInteractive(key) {\n",
              "        const element = document.querySelector('#df-9ac46285-8919-4fe9-a311-08ef43fe7459');\n",
              "        const dataTable =\n",
              "          await google.colab.kernel.invokeFunction('convertToInteractive',\n",
              "                                                    [key], {});\n",
              "        if (!dataTable) return;\n",
              "\n",
              "        const docLinkHtml = 'Like what you see? Visit the ' +\n",
              "          '<a target=\"_blank\" href=https://colab.research.google.com/notebooks/data_table.ipynb>data table notebook</a>'\n",
              "          + ' to learn more about interactive tables.';\n",
              "        element.innerHTML = '';\n",
              "        dataTable['output_type'] = 'display_data';\n",
              "        await google.colab.output.renderOutput(dataTable, element);\n",
              "        const docLink = document.createElement('div');\n",
              "        docLink.innerHTML = docLinkHtml;\n",
              "        element.appendChild(docLink);\n",
              "      }\n",
              "    </script>\n",
              "  </div>\n",
              "\n",
              "\n",
              "    <div id=\"df-0ca99e82-3165-485c-8b9c-aeee5a67d9db\">\n",
              "      <button class=\"colab-df-quickchart\" onclick=\"quickchart('df-0ca99e82-3165-485c-8b9c-aeee5a67d9db')\"\n",
              "                title=\"Suggest charts\"\n",
              "                style=\"display:none;\">\n",
              "\n",
              "<svg xmlns=\"http://www.w3.org/2000/svg\" height=\"24px\"viewBox=\"0 0 24 24\"\n",
              "     width=\"24px\">\n",
              "    <g>\n",
              "        <path d=\"M19 3H5c-1.1 0-2 .9-2 2v14c0 1.1.9 2 2 2h14c1.1 0 2-.9 2-2V5c0-1.1-.9-2-2-2zM9 17H7v-7h2v7zm4 0h-2V7h2v10zm4 0h-2v-4h2v4z\"/>\n",
              "    </g>\n",
              "</svg>\n",
              "      </button>\n",
              "\n",
              "<style>\n",
              "  .colab-df-quickchart {\n",
              "      --bg-color: #E8F0FE;\n",
              "      --fill-color: #1967D2;\n",
              "      --hover-bg-color: #E2EBFA;\n",
              "      --hover-fill-color: #174EA6;\n",
              "      --disabled-fill-color: #AAA;\n",
              "      --disabled-bg-color: #DDD;\n",
              "  }\n",
              "\n",
              "  [theme=dark] .colab-df-quickchart {\n",
              "      --bg-color: #3B4455;\n",
              "      --fill-color: #D2E3FC;\n",
              "      --hover-bg-color: #434B5C;\n",
              "      --hover-fill-color: #FFFFFF;\n",
              "      --disabled-bg-color: #3B4455;\n",
              "      --disabled-fill-color: #666;\n",
              "  }\n",
              "\n",
              "  .colab-df-quickchart {\n",
              "    background-color: var(--bg-color);\n",
              "    border: none;\n",
              "    border-radius: 50%;\n",
              "    cursor: pointer;\n",
              "    display: none;\n",
              "    fill: var(--fill-color);\n",
              "    height: 32px;\n",
              "    padding: 0;\n",
              "    width: 32px;\n",
              "  }\n",
              "\n",
              "  .colab-df-quickchart:hover {\n",
              "    background-color: var(--hover-bg-color);\n",
              "    box-shadow: 0 1px 2px rgba(60, 64, 67, 0.3), 0 1px 3px 1px rgba(60, 64, 67, 0.15);\n",
              "    fill: var(--button-hover-fill-color);\n",
              "  }\n",
              "\n",
              "  .colab-df-quickchart-complete:disabled,\n",
              "  .colab-df-quickchart-complete:disabled:hover {\n",
              "    background-color: var(--disabled-bg-color);\n",
              "    fill: var(--disabled-fill-color);\n",
              "    box-shadow: none;\n",
              "  }\n",
              "\n",
              "  .colab-df-spinner {\n",
              "    border: 2px solid var(--fill-color);\n",
              "    border-color: transparent;\n",
              "    border-bottom-color: var(--fill-color);\n",
              "    animation:\n",
              "      spin 1s steps(1) infinite;\n",
              "  }\n",
              "\n",
              "  @keyframes spin {\n",
              "    0% {\n",
              "      border-color: transparent;\n",
              "      border-bottom-color: var(--fill-color);\n",
              "      border-left-color: var(--fill-color);\n",
              "    }\n",
              "    20% {\n",
              "      border-color: transparent;\n",
              "      border-left-color: var(--fill-color);\n",
              "      border-top-color: var(--fill-color);\n",
              "    }\n",
              "    30% {\n",
              "      border-color: transparent;\n",
              "      border-left-color: var(--fill-color);\n",
              "      border-top-color: var(--fill-color);\n",
              "      border-right-color: var(--fill-color);\n",
              "    }\n",
              "    40% {\n",
              "      border-color: transparent;\n",
              "      border-right-color: var(--fill-color);\n",
              "      border-top-color: var(--fill-color);\n",
              "    }\n",
              "    60% {\n",
              "      border-color: transparent;\n",
              "      border-right-color: var(--fill-color);\n",
              "    }\n",
              "    80% {\n",
              "      border-color: transparent;\n",
              "      border-right-color: var(--fill-color);\n",
              "      border-bottom-color: var(--fill-color);\n",
              "    }\n",
              "    90% {\n",
              "      border-color: transparent;\n",
              "      border-bottom-color: var(--fill-color);\n",
              "    }\n",
              "  }\n",
              "</style>\n",
              "\n",
              "      <script>\n",
              "        async function quickchart(key) {\n",
              "          const quickchartButtonEl =\n",
              "            document.querySelector('#' + key + ' button');\n",
              "          quickchartButtonEl.disabled = true;  // To prevent multiple clicks.\n",
              "          quickchartButtonEl.classList.add('colab-df-spinner');\n",
              "          try {\n",
              "            const charts = await google.colab.kernel.invokeFunction(\n",
              "                'suggestCharts', [key], {});\n",
              "          } catch (error) {\n",
              "            console.error('Error during call to suggestCharts:', error);\n",
              "          }\n",
              "          quickchartButtonEl.classList.remove('colab-df-spinner');\n",
              "          quickchartButtonEl.classList.add('colab-df-quickchart-complete');\n",
              "        }\n",
              "        (() => {\n",
              "          let quickchartButtonEl =\n",
              "            document.querySelector('#df-0ca99e82-3165-485c-8b9c-aeee5a67d9db button');\n",
              "          quickchartButtonEl.style.display =\n",
              "            google.colab.kernel.accessAllowed ? 'block' : 'none';\n",
              "        })();\n",
              "      </script>\n",
              "    </div>\n",
              "\n",
              "    </div>\n",
              "  </div>\n"
            ],
            "text/plain": [
              "   statecd                                          statename  distcd  \\\n",
              "0       35  ANDAMAN & NICOBAR ISLANDS                     ...    3501   \n",
              "1       35  ANDAMAN & NICOBAR ISLANDS                     ...    3503   \n",
              "2       35  ANDAMAN & NICOBAR ISLANDS                     ...    3502   \n",
              "3       28  ANDHRA PRADESH                                ...    2801   \n",
              "4       28  ANDHRA PRADESH                                ...    2822   \n",
              "\n",
              "                                            distname  ac_year  tch_govt1  \\\n",
              "0  ANDAMANS                                      ...  2012-13        329   \n",
              "1  MIDDLE AND NORTH ANDAMANS                     ...  2012-13        305   \n",
              "2  NICOBARS                                      ...  2012-13        110   \n",
              "3  ADILABAD                                      ...  2012-13       4749   \n",
              "4  ANANTAPUR                                     ...  2012-13       5797   \n",
              "\n",
              "   tch_govt2  tch_govt3  tch_govt4  tch_govt5  ...  trn_tch_f2  trn_tch_f3  \\\n",
              "0        429       1097          0        127  ...         176         135   \n",
              "1        285        194         95        268  ...          85          40   \n",
              "2         95         56          0        135  ...          29          23   \n",
              "3       1788         38          0         22  ...         267           0   \n",
              "4       2879        209          8       6733  ...         726           0   \n",
              "\n",
              "   trn_tch_f4  trn_tch_f5  trn_tch_f6  trn_tch_f7  prof_trn_tch_r  \\\n",
              "0           0          22         103           0            2968   \n",
              "1           3          28          60           0            1249   \n",
              "2           0          17          46           0             430   \n",
              "3           0           0           8         248           16419   \n",
              "4           0         591           0           3           21487   \n",
              "\n",
              "   prof_trn_tch_p  days_nontch  tch_nontch  \n",
              "0             228           12         519  \n",
              "1             203            8         362  \n",
              "2              78           20          28  \n",
              "3             845           13         263  \n",
              "4             676           14        1185  \n",
              "\n",
              "[5 rows x 181 columns]"
            ]
          },
          "execution_count": 10,
          "metadata": {},
          "output_type": "execute_result"
        }
      ],
      "source": [
        "df2.head()"
      ]
    },
    {
      "cell_type": "code",
      "execution_count": null,
      "metadata": {
        "colab": {
          "base_uri": "https://localhost:8080/"
        },
        "id": "xutPX0xxwov0",
        "outputId": "f03da67d-bada-4db1-e4da-c348bd776e00"
      },
      "outputs": [
        {
          "name": "stdout",
          "output_type": "stream",
          "text": [
            "Shape: (1324, 181)\n"
          ]
        }
      ],
      "source": [
        "# Shape of the data\n",
        "print(\"Shape:\", df2.shape)"
      ]
    },
    {
      "cell_type": "code",
      "execution_count": null,
      "metadata": {
        "colab": {
          "base_uri": "https://localhost:8080/"
        },
        "id": "Mf-CdNfPwomj",
        "outputId": "ce015ccb-b4a0-486a-8697-fe198ec68950"
      },
      "outputs": [
        {
          "name": "stdout",
          "output_type": "stream",
          "text": [
            "Columns: ['statecd', 'statename', 'distcd', 'distname', 'ac_year', 'tch_govt1', 'tch_govt2', 'tch_govt3', 'tch_govt4', 'tch_govt5', 'tch_govt6', 'tch_govt7', 'tch_govt9', 'tch_pvt1', 'tch_pvt2', 'tch_pvt3', 'tch_pvt4', 'tch_pvt5', 'tch_pvt6', 'tch_pvt7', 'tch_pvt9', 'tch_un1', 'tch_un2', 'tch_un3', 'tch_un4', 'tch_un5', 'tch_un6', 'tch_un7', 'tch_un9', 'tch_bs1', 'tch_bs2', 'tch_bs3', 'tch_bs4', 'tch_bs5', 'tch_bs6', 'tch_bs7', 'tch_bs_p', 'tch_s1', 'tch_s2', 'tch_s3', 'tch_s4', 'tch_s5', 'tch_s6', 'tch_s7', 'tch_s_p', 'tch_hs1', 'tch_hs2', 'tch_hs3', 'tch_hs4', 'tch_hs5', 'tch_hs6', 'tch_hs7', 'tch_hs_p', 'tch_grad1', 'tch_grad2', 'tch_grad3', 'tch_grad4', 'tch_grad5', 'tch_grad6', 'tch_grad7', 'tch_grad_p', 'tch_pgrad1', 'tch_pgrad2', 'tch_pgrad3', 'tch_pgrad4', 'tch_pgrad5', 'tch_pgrad6', 'tch_pgrad7', 'tch_pgrad_p', 'tch_mph1', 'tch_mph2', 'tch_mph3', 'tch_mph4', 'tch_mph5', 'tch_mph6', 'tch_mph7', 'tch_mph_p', 'tch_pd1', 'tch_pd2', 'tch_pd3', 'tch_pd4', 'tch_pd5', 'tch_pd6', 'tch_pd7', 'tch_pd_p', 'tch_eduqual_nr1', 'tch_eduqual_nr2', 'tch_eduqual_nr3', 'tch_eduqual_nr4', 'tch_eduqual_nr5', 'tch_eduqual_nr6', 'tch_eduqual_nr7', 'tch_eduqual_nr_p', 'tch_m1', 'tch_m2', 'tch_m3', 'tch_m4', 'tch_m5', 'tch_m6', 'tch_m7', 'tch_f1', 'tch_f2', 'tch_f3', 'tch_f4', 'tch_f5', 'tch_f6', 'tch_f7', 'tch_nr1', 'tch_nr2', 'tch_nr3', 'tch_nr4', 'tch_nr5', 'tch_nr6', 'tch_nr7', 'tch_m_p1', 'tch_m_p2', 'tch_m_p3', 'tch_m_p4', 'tch_m_p5', 'tch_m_p6', 'tch_m_p7', 'tch_f_p1', 'tch_f_p2', 'tch_f_p3', 'tch_f_p4', 'tch_f_p5', 'tch_f_p6', 'tch_f_p7', 'tch_nr_p1', 'tch_nr_p2', 'tch_nr_p3', 'tch_nr_p4', 'tch_nr_p5', 'tch_nr_p6', 'tch_nr_p7', 'tch_sc_m1', 'tch_sc_m2', 'tch_sc_m3', 'tch_sc_m4', 'tch_sc_m5', 'tch_sc_m6', 'tch_sc_m7', 'tch_sc_f1', 'tch_sc_f2', 'tch_sc_f3', 'tch_sc_f4', 'tch_sc_f5', 'tch_sc_f6', 'tch_sc_f7', 'tch_st_m1', 'tch_st_m2', 'tch_st_m3', 'tch_st_m4', 'tch_st_m5', 'tch_st_m6', 'tch_st_m7', 'tch_st_f1', 'tch_st_f2', 'tch_st_f3', 'tch_st_f4', 'tch_st_f5', 'tch_st_f6', 'tch_st_f7', 'trn_tch_m1', 'trn_tch_m2', 'trn_tch_m3', 'trn_tch_m4', 'trn_tch_m5', 'trn_tch_m6', 'trn_tch_m7', 'trn_tch_f1', 'trn_tch_f2', 'trn_tch_f3', 'trn_tch_f4', 'trn_tch_f5', 'trn_tch_f6', 'trn_tch_f7', 'prof_trn_tch_r', 'prof_trn_tch_p', 'days_nontch', 'tch_nontch']\n"
          ]
        }
      ],
      "source": [
        "# Column names\n",
        "print(\"Columns:\", df2.columns.tolist())"
      ]
    },
    {
      "cell_type": "code",
      "execution_count": null,
      "metadata": {
        "colab": {
          "base_uri": "https://localhost:8080/"
        },
        "id": "b0oJspmvwodv",
        "outputId": "3f5182a9-d792-45d3-aa16-d298c477ca28"
      },
      "outputs": [
        {
          "name": "stdout",
          "output_type": "stream",
          "text": [
            "statecd            int64\n",
            "statename         object\n",
            "distcd             int64\n",
            "distname          object\n",
            "ac_year           object\n",
            "                   ...  \n",
            "trn_tch_f7         int64\n",
            "prof_trn_tch_r     int64\n",
            "prof_trn_tch_p     int64\n",
            "days_nontch        int64\n",
            "tch_nontch         int64\n",
            "Length: 181, dtype: object\n"
          ]
        }
      ],
      "source": [
        "\n",
        "# Data types of each column\n",
        "print(df2.dtypes)"
      ]
    },
    {
      "cell_type": "code",
      "execution_count": null,
      "metadata": {
        "colab": {
          "base_uri": "https://localhost:8080/"
        },
        "id": "m9D46HxYwoRG",
        "outputId": "35e01d08-a1d7-4175-ffd1-a0f873ce8258"
      },
      "outputs": [
        {
          "name": "stdout",
          "output_type": "stream",
          "text": [
            "           statecd       distcd     tch_govt1     tch_govt2   tch_govt3  \\\n",
            "count  1324.000000  1324.000000   1324.000000   1324.000000  1324.00000   \n",
            "mean     17.108761  1727.391239   3043.915408   1731.320242   155.31571   \n",
            "std       9.341604   933.187369   2638.704948   2351.718141   469.74075   \n",
            "min       1.000000   101.000000      0.000000      0.000000     0.00000   \n",
            "25%       9.000000   933.000000   1300.000000     14.000000     0.00000   \n",
            "50%      18.000000  1822.500000   2422.500000    486.500000    27.00000   \n",
            "75%      24.000000  2410.000000   4031.500000   2694.250000   102.25000   \n",
            "max      35.000000  3503.000000  23248.000000  12902.000000  5903.00000   \n",
            "\n",
            "         tch_govt4     tch_govt5    tch_govt6    tch_govt7    tch_govt9  ...  \\\n",
            "count  1324.000000   1324.000000  1324.000000  1324.000000  1324.000000  ...   \n",
            "mean    623.398036    777.830816   160.501511   410.455438     0.719033  ...   \n",
            "std     848.384969   1722.935608   300.917995   941.320989    12.056540  ...   \n",
            "min       0.000000      0.000000     0.000000     0.000000     0.000000  ...   \n",
            "25%       9.000000     20.750000     0.000000     0.000000     0.000000  ...   \n",
            "50%      89.000000     87.000000    14.000000    50.000000     0.000000  ...   \n",
            "75%    1149.500000    705.000000   197.000000   436.750000     0.000000  ...   \n",
            "max    4892.000000  19583.000000  2923.000000  7961.000000   309.000000  ...   \n",
            "\n",
            "        trn_tch_f2   trn_tch_f3   trn_tch_f4   trn_tch_f5   trn_tch_f6  \\\n",
            "count  1324.000000  1324.000000  1324.000000  1324.000000  1324.000000   \n",
            "mean    427.539275    31.444864    65.622356    82.373867    18.411631   \n",
            "std     880.914069   196.074833   129.704767   212.937302    65.265796   \n",
            "min       0.000000     0.000000     0.000000     0.000000     0.000000   \n",
            "25%       1.000000     0.000000     0.000000     0.000000     0.000000   \n",
            "50%      36.000000     0.000000    12.000000     0.000000     0.000000   \n",
            "75%     407.750000     4.000000    74.250000    23.000000    12.000000   \n",
            "max    9519.000000  3473.000000  1699.000000  1587.000000  1007.000000   \n",
            "\n",
            "        trn_tch_f7  prof_trn_tch_r  prof_trn_tch_p  days_nontch    tch_nontch  \n",
            "count  1324.000000     1324.000000     1324.000000  1324.000000   1324.000000  \n",
            "mean     40.125378     8384.656344      427.192598    17.771903    450.216767  \n",
            "std     106.822955     7067.142979      698.714189    15.482736   1127.289940  \n",
            "min       0.000000       16.000000        0.000000     0.000000      0.000000  \n",
            "25%       0.000000     3379.000000        9.000000     9.000000     49.750000  \n",
            "50%       1.000000     6659.500000      145.500000    14.000000    139.000000  \n",
            "75%      27.250000    11097.500000      548.250000    22.000000    404.500000  \n",
            "max    1283.000000    59292.000000     6195.000000   205.000000  17044.000000  \n",
            "\n",
            "[8 rows x 178 columns]\n"
          ]
        }
      ],
      "source": [
        "# Summary statistics\n",
        "print(df2.describe())\n"
      ]
    },
    {
      "cell_type": "code",
      "execution_count": null,
      "metadata": {
        "colab": {
          "base_uri": "https://localhost:8080/"
        },
        "id": "la-GbwZKBD0L",
        "outputId": "740ee794-49c0-4244-ba02-d365d45fff3e"
      },
      "outputs": [
        {
          "name": "stdout",
          "output_type": "stream",
          "text": [
            "Series([], dtype: int64)\n"
          ]
        }
      ],
      "source": [
        "# Missing values\n",
        "print(df2.isnull().sum()[df2.isnull().sum()>0])\n"
      ]
    },
    {
      "cell_type": "markdown",
      "metadata": {
        "id": "KAAf2bgG1lpI"
      },
      "source": []
    },
    {
      "cell_type": "markdown",
      "metadata": {
        "id": "K2A3OKraKMs9"
      },
      "source": [
        "## Exercise 2  - Data Integration (3 Marks)\n",
        "\n",
        "As the required data is present in different datasets, we need to **integrate both to make a single dataframe/dataset**.\n",
        "  * For integrating the datasets, create a unique identifier for each row in both the dataframes so that it can be used to map the data in different files.\n",
        "   \n",
        "    * Combine year, state code, district code columns and form a new unique identifier column, refer to this [link](https://stackoverflow.com/questions/33098383/merge-multiple-column-values-into-one-column-in-python-pandas).\n",
        "    * Set the identifier column as the index for each dataframe.\n",
        "\n",
        "    * Integrate the dataframes using the above index\n",
        "     \n",
        "     Hint: For merging or joining the datasets, refer to this [link](https://pandas.pydata.org/pandas-docs/stable/user_guide/merging.html)\n",
        "\n",
        "**Example:** Data of the district Anantapur in Andrapradesh, which is present in different files should form a single row after integrating the datasets\n"
      ]
    },
    {
      "cell_type": "code",
      "execution_count": null,
      "metadata": {
        "colab": {
          "base_uri": "https://localhost:8080/"
        },
        "id": "wXvBjPIH4CWH",
        "outputId": "6955ffe5-e059-48e1-bd09-bcf9f1aab533"
      },
      "outputs": [
        {
          "name": "stdout",
          "output_type": "stream",
          "text": [
            "20\n",
            "182\n",
            "200\n",
            "19\n",
            "181\n"
          ]
        },
        {
          "data": {
            "text/plain": [
              "Index(['2012-13_35_3501', '2012-13_35_3503', '2012-13_35_3502',\n",
              "       '2012-13_28_2801', '2012-13_28_2822', '2012-13_28_2823',\n",
              "       '2012-13_28_2820', '2012-13_28_2814', '2012-13_28_2817',\n",
              "       '2012-13_28_2805',\n",
              "       ...\n",
              "       '2013-14_19_1906', '2013-14_19_1907', '2013-14_19_1910',\n",
              "       '2013-14_19_1911', '2013-14_19_1920', '2013-14_19_1919',\n",
              "       '2013-14_19_1914', '2013-14_19_1921', '2013-14_19_1918',\n",
              "       '2013-14_19_1904'],\n",
              "      dtype='object', name='uid', length=1324)"
            ]
          },
          "execution_count": 16,
          "metadata": {},
          "output_type": "execute_result"
        }
      ],
      "source": [
        "# YOUR CODE HERE for integrating the datasets\n",
        "df1['uid'] = df1['Year'].astype(str) + '_' + df1['Statecd'].astype(str) + '_' + df1['distcd'].astype(str)\n",
        "df2['uid'] = df2['ac_year'].astype(str) + '_' + df2['statecd'].astype(str) + '_' + df2['distcd'].astype(str)\n",
        "\n",
        "\n",
        "print(df1.columns.size)\n",
        "print(df2.columns.size)\n",
        "\n",
        "df1.set_index('uid', inplace=True)\n",
        "df2.set_index('uid', inplace=True)\n",
        "\n",
        "df = df1.join(df2, lsuffix='_left', rsuffix='_right')\n",
        "\n",
        "\n",
        "print(df.columns.size)\n",
        "print(df1.columns.size)\n",
        "print(df2.columns.size)\n",
        "# df.columns.tolist()\n",
        "\n",
        "df.index\n"
      ]
    },
    {
      "cell_type": "markdown",
      "metadata": {
        "id": "_jcX4aRsKMtE"
      },
      "source": [
        "## Exercise 3 - Data Cleaning (3 Marks)\n",
        "\n",
        "1.  **Overall_lit** is our target variable. Delete rows with missing overall_lit value\n",
        "\n",
        "   Hint: Refer to the link [dropna](https://pandas.pydata.org/pandas-docs/stable/reference/api/pandas.DataFrame.dropna.html).\n",
        "\n",
        "\n",
        "2.  Convert categorical values to numerical values.\n",
        "\n",
        "  For example, If a feature contains categorical values such as dog, cat, mouse, etc then replace them with 0, 1, 2, etc or use [Sklearn LabelEncoder's](https://scikit-learn.org/stable/modules/generated/sklearn.preprocessing.LabelEncoder.html)\n",
        "\n",
        "3. Replace the missing values in any other column appropriately with mean / median / mode.\n",
        "\n",
        "  Hint: Use pandas [fillna](https://pandas.pydata.org/pandas-docs/stable/reference/api/pandas.DataFrame.fillna.html) function to replace the missing values\n",
        "\n",
        "\n"
      ]
    },
    {
      "cell_type": "code",
      "execution_count": null,
      "metadata": {
        "colab": {
          "base_uri": "https://localhost:8080/",
          "height": 293
        },
        "id": "Cbp97hKa64lf",
        "outputId": "332de198-3efd-4d13-c416-e26b51b365ec"
      },
      "outputs": [
        {
          "name": "stdout",
          "output_type": "stream",
          "text": [
            "(1324, 200)\n",
            "56\n",
            "0\n"
          ]
        },
        {
          "data": {
            "text/html": [
              "<div>\n",
              "<style scoped>\n",
              "    .dataframe tbody tr th:only-of-type {\n",
              "        vertical-align: middle;\n",
              "    }\n",
              "\n",
              "    .dataframe tbody tr th {\n",
              "        vertical-align: top;\n",
              "    }\n",
              "\n",
              "    .dataframe thead th {\n",
              "        text-align: right;\n",
              "    }\n",
              "</style>\n",
              "<table border=\"1\" class=\"dataframe\">\n",
              "  <thead>\n",
              "    <tr style=\"text-align: right;\">\n",
              "      <th></th>\n",
              "      <th>0</th>\n",
              "    </tr>\n",
              "  </thead>\n",
              "  <tbody>\n",
              "    <tr>\n",
              "      <th>p_06_pop</th>\n",
              "      <td>2</td>\n",
              "    </tr>\n",
              "    <tr>\n",
              "      <th>p_urb_pop</th>\n",
              "      <td>6</td>\n",
              "    </tr>\n",
              "    <tr>\n",
              "      <th>sexratio_06</th>\n",
              "      <td>2</td>\n",
              "    </tr>\n",
              "    <tr>\n",
              "      <th>p_sc_pop</th>\n",
              "      <td>12</td>\n",
              "    </tr>\n",
              "    <tr>\n",
              "      <th>p_st_pop</th>\n",
              "      <td>12</td>\n",
              "    </tr>\n",
              "  </tbody>\n",
              "</table>\n",
              "</div><br><label><b>dtype:</b> int64</label>"
            ],
            "text/plain": [
              "p_06_pop        2\n",
              "p_urb_pop       6\n",
              "sexratio_06     2\n",
              "p_sc_pop       12\n",
              "p_st_pop       12\n",
              "dtype: int64"
            ]
          },
          "execution_count": 17,
          "metadata": {},
          "output_type": "execute_result"
        }
      ],
      "source": [
        "# YOUR CODE HERE for data cleaning\n",
        "print(df.shape)\n",
        "print(df['overall_lit'].isnull().sum())\n",
        "df = df.dropna(subset=['overall_lit'])\n",
        "print(df['overall_lit'].isnull().sum())\n",
        "\n",
        "from sklearn.preprocessing import LabelEncoder\n",
        "\n",
        "le = LabelEncoder()\n",
        "\n",
        "cols_to_encode = df.select_dtypes(exclude=['int64','float64']).columns\n",
        "\n",
        "# cols_to_encode = ['Year', 'statename_left', 'statename_right','distname_left','distname_right','overall_lit','ac_year']\n",
        "\n",
        "df[cols_to_encode] = df[cols_to_encode].apply(lambda col: le.fit_transform(col))\n",
        "df.isnull().sum()[df.isnull().sum()>0]\n",
        "\n"
      ]
    },
    {
      "cell_type": "code",
      "execution_count": null,
      "metadata": {
        "colab": {
          "base_uri": "https://localhost:8080/"
        },
        "id": "6IhKVYJ24xVn",
        "outputId": "0b98cb88-145e-4f35-c840-721bec70302e"
      },
      "outputs": [
        {
          "name": "stdout",
          "output_type": "stream",
          "text": [
            "Filled nulls in column 'p_06_pop' using median with value: 204934.14\n",
            "Filled nulls in column 'p_urb_pop' using median with value: 19.5\n",
            "Filled nulls in column 'sexratio_06' using mean with value: 918.8135860979463\n",
            "Filled nulls in column 'p_sc_pop' using mean with value: 14.83001592356688\n",
            "Filled nulls in column 'p_st_pop' using median with value: 4.165\n",
            "Series([], dtype: int64)\n"
          ]
        },
        {
          "name": "stderr",
          "output_type": "stream",
          "text": [
            "<ipython-input-18-1ca4fdc65e1f>:32: FutureWarning: A value is trying to be set on a copy of a DataFrame or Series through chained assignment using an inplace method.\n",
            "The behavior will change in pandas 3.0. This inplace method will never work because the intermediate object on which we are setting values always behaves as a copy.\n",
            "\n",
            "For example, when doing 'df[col].method(value, inplace=True)', try using 'df.method({col: value}, inplace=True)' or df[col] = df[col].method(value) instead, to perform the operation inplace on the original object.\n",
            "\n",
            "\n",
            "  df_filled[col].fillna(fill_value, inplace=True)\n",
            "<ipython-input-18-1ca4fdc65e1f>:32: FutureWarning: A value is trying to be set on a copy of a DataFrame or Series through chained assignment using an inplace method.\n",
            "The behavior will change in pandas 3.0. This inplace method will never work because the intermediate object on which we are setting values always behaves as a copy.\n",
            "\n",
            "For example, when doing 'df[col].method(value, inplace=True)', try using 'df.method({col: value}, inplace=True)' or df[col] = df[col].method(value) instead, to perform the operation inplace on the original object.\n",
            "\n",
            "\n",
            "  df_filled[col].fillna(fill_value, inplace=True)\n",
            "<ipython-input-18-1ca4fdc65e1f>:32: FutureWarning: A value is trying to be set on a copy of a DataFrame or Series through chained assignment using an inplace method.\n",
            "The behavior will change in pandas 3.0. This inplace method will never work because the intermediate object on which we are setting values always behaves as a copy.\n",
            "\n",
            "For example, when doing 'df[col].method(value, inplace=True)', try using 'df.method({col: value}, inplace=True)' or df[col] = df[col].method(value) instead, to perform the operation inplace on the original object.\n",
            "\n",
            "\n",
            "  df_filled[col].fillna(fill_value, inplace=True)\n",
            "<ipython-input-18-1ca4fdc65e1f>:32: FutureWarning: A value is trying to be set on a copy of a DataFrame or Series through chained assignment using an inplace method.\n",
            "The behavior will change in pandas 3.0. This inplace method will never work because the intermediate object on which we are setting values always behaves as a copy.\n",
            "\n",
            "For example, when doing 'df[col].method(value, inplace=True)', try using 'df.method({col: value}, inplace=True)' or df[col] = df[col].method(value) instead, to perform the operation inplace on the original object.\n",
            "\n",
            "\n",
            "  df_filled[col].fillna(fill_value, inplace=True)\n",
            "<ipython-input-18-1ca4fdc65e1f>:32: FutureWarning: A value is trying to be set on a copy of a DataFrame or Series through chained assignment using an inplace method.\n",
            "The behavior will change in pandas 3.0. This inplace method will never work because the intermediate object on which we are setting values always behaves as a copy.\n",
            "\n",
            "For example, when doing 'df[col].method(value, inplace=True)', try using 'df.method({col: value}, inplace=True)' or df[col] = df[col].method(value) instead, to perform the operation inplace on the original object.\n",
            "\n",
            "\n",
            "  df_filled[col].fillna(fill_value, inplace=True)\n"
          ]
        }
      ],
      "source": [
        "import pandas as pd\n",
        "\n",
        "def fill_nulls_smart(df):\n",
        "    df_filled = df.copy()\n",
        "\n",
        "    for col in df.columns:\n",
        "        if df[col].isnull().sum() == 0:\n",
        "            continue  # Skip if no nulls\n",
        "\n",
        "        # Categorical columns → Mode\n",
        "        if df[col].dtype == 'object':\n",
        "            fill_value = df[col].mode().iloc[0]\n",
        "            strategy = 'mode'\n",
        "\n",
        "        # Numerical columns\n",
        "        else:\n",
        "            series = df[col].dropna()\n",
        "            skewness = series.skew()\n",
        "            Q1 = series.quantile(0.25)\n",
        "            Q3 = series.quantile(0.75)\n",
        "            IQR = Q3 - Q1\n",
        "            outliers = series[(series < Q1 - 1.5*IQR) | (series > Q3 + 1.5*IQR)]\n",
        "\n",
        "            if abs(skewness) > 1 or len(outliers) > 0.1 * len(series):\n",
        "                fill_value = series.median()\n",
        "                strategy = 'median'\n",
        "            else:\n",
        "                fill_value = series.mean()\n",
        "                strategy = 'mean'\n",
        "\n",
        "        # Fill missing values\n",
        "        df_filled[col].fillna(fill_value, inplace=True)\n",
        "\n",
        "        print(f\"Filled nulls in column '{col}' using {strategy} with value: {fill_value}\")\n",
        "\n",
        "    return df_filled\n",
        "\n",
        "df = fill_nulls_smart(df)\n",
        "\n",
        "print(df.isnull().sum()[df.isnull().sum()>0])\n",
        "\n"
      ]
    },
    {
      "cell_type": "markdown",
      "metadata": {
        "id": "SzsY-knQKMtI"
      },
      "source": [
        "## Exercise 4 - (3 Marks)\n",
        "\n",
        "1. Remove the unnecessary columns which are not contributing to the overall literacy rate\n",
        "\n",
        "2. Verify if there are any duplicate columns and remove them.\n",
        "\n",
        "  For example: state name and district name are the same as state code and district code.\n",
        "\n",
        "3. Make sure that the final dataframe has no null or nan values. Delete the rows with missing values.\n",
        "\n",
        "   Hint: Give df.isna() to verify on the nan values in the dataframe."
      ]
    },
    {
      "cell_type": "code",
      "execution_count": null,
      "metadata": {
        "colab": {
          "base_uri": "https://localhost:8080/"
        },
        "id": "-hU2poUeKMtT",
        "outputId": "89c588fc-91fd-4f42-cbf6-0fea0cf8dbd2"
      },
      "outputs": [
        {
          "name": "stdout",
          "output_type": "stream",
          "text": [
            "(1268, 200)\n",
            "(1268, 190)\n",
            "(1268, 190)\n",
            "(1268, 189)\n",
            "(1268, 189)\n",
            "Series([], dtype: int64)\n"
          ]
        }
      ],
      "source": [
        "# YOUR CODE HERE for cleaning the dataframe\n",
        "print(df.shape)\n",
        "df = df.drop(columns=['statename_left','Year','distname_left', 'Statecd','distcd_left','statecd','statename_right','distcd_right','distname_right','ac_year'])\n",
        "print(df.shape)\n",
        "df = df.dropna()\n",
        "print(df.shape)\n",
        "df = df.loc[:, df.nunique() > 1]\n",
        "print(df.shape)\n",
        "df = df.T.drop_duplicates().T\n",
        "print(df.shape)\n",
        "print(df.isna().sum()[df.isna().sum()>0])\n"
      ]
    },
    {
      "cell_type": "markdown",
      "metadata": {
        "id": "cJo0t2403sf7"
      },
      "source": [
        "## Exercise 5 - Apply Correlation Matrix (2 Marks)\n",
        "\n",
        "Correlation is a statistical technique that can show whether and how strongly pairs of variables are related. More number of features does not imply better accuracy. More features may lead to a decline in the accuracy and create noise in the model, if they contain any irrelevant features.\n",
        "\n",
        "*Features with high correlation value will imply the same meaning. Hence removing the highly correlated features*"
      ]
    },
    {
      "cell_type": "markdown",
      "metadata": {
        "id": "KLRn2Zv-pwdR"
      },
      "source": [
        "**Function Description:**\n",
        "\n",
        "`remove_Highly_Correlated()` function removes highly correlated features in the dataframe.\n",
        "- Creates a correlation matrix of row and column wise features\n",
        "- Extracts only uppertriangular matrix as correlation matrix, which will have the same values below and above the diagonal\n",
        "- Removes columns which are having correlation value more than the threshold value."
      ]
    },
    {
      "cell_type": "code",
      "execution_count": null,
      "metadata": {
        "id": "kEN36Fj0o2TQ"
      },
      "outputs": [],
      "source": [
        "def remove_Highly_Correlated(df, bar=0.9):\n",
        "  # Creates correlation matrix\n",
        "  corr = df.corr()\n",
        "\n",
        "  # Set Up Mask To Hide Upper Triangle\n",
        "  mask = np.triu(np.ones_like(corr, dtype=bool))\n",
        "  tri_df = corr.mask(mask)\n",
        "\n",
        "  # Finding features with correlation value more than specified threshold value (bar=0.9)\n",
        "  highly_cor_col = [col for col in tri_df.columns if any(tri_df[col] > bar )]\n",
        "  print(\"length of highly correlated columns\",len(highly_cor_col))\n",
        "\n",
        "  # Drop the highly correlated columns\n",
        "  reduced_df = df.drop(highly_cor_col, axis = 1)\n",
        "  print(\"shape of data\",df.shape,\"shape of reduced data\",reduced_df.shape)\n",
        "  return reduced_df"
      ]
    },
    {
      "cell_type": "code",
      "execution_count": null,
      "metadata": {
        "colab": {
          "base_uri": "https://localhost:8080/"
        },
        "id": "p6VMZGXL5O45",
        "outputId": "85cd2989-4f6e-4493-8844-344b1e391246"
      },
      "outputs": [
        {
          "name": "stdout",
          "output_type": "stream",
          "text": [
            "length of highly correlated columns 25\n",
            "shape of data (1268, 189) shape of reduced data (1268, 164)\n"
          ]
        }
      ],
      "source": [
        "# YOUR CODE HERE to remove highly correlated features from the dataframe by calling above function.\n",
        "df_cleaned = remove_Highly_Correlated(df)"
      ]
    },
    {
      "cell_type": "markdown",
      "metadata": {
        "id": "e_yZN3u9Vud7"
      },
      "source": [
        "## Exercise 6 - (3 Marks)\n",
        "\n",
        "Perform Standard Scaling on the data feature/column wise.\n",
        "\n",
        "**Hint:** In order to understand the idea behind the terms used above, you may refer to the following link:\n",
        "\n",
        "[StandardScaler](https://scikit-learn.org/stable/modules/generated/sklearn.preprocessing.StandardScaler.html)"
      ]
    },
    {
      "cell_type": "code",
      "execution_count": null,
      "metadata": {
        "id": "Az5JHlZBPE0g"
      },
      "outputs": [],
      "source": [
        "from sklearn.feature_selection import SelectKBest, f_regression\n",
        "from sklearn.model_selection import cross_val_score\n",
        "from sklearn.linear_model import LinearRegression\n",
        "import pandas as pd\n",
        "import numpy as np\n",
        "import matplotlib.pyplot as plt\n",
        "\n",
        "def find_optimal_k(df, target_col, max_k=160):\n",
        "    X = df.drop(columns=[target_col])\n",
        "    y = df[target_col]\n",
        "\n",
        "    X = pd.get_dummies(X, drop_first=True)\n",
        "    X = X.fillna(X.mean())\n",
        "\n",
        "    scores = []\n",
        "    k_range = range(5, min(max_k, X.shape[1]) + 1, 5)  # test in steps of 5\n",
        "\n",
        "    for k in k_range:\n",
        "        selector = SelectKBest(score_func=f_regression, k=k)\n",
        "        X_selected = selector.fit_transform(X, y)\n",
        "\n",
        "        model = LinearRegression()\n",
        "        score = cross_val_score(model, X_selected, y, cv=5, scoring='r2').mean()\n",
        "        scores.append(score)\n",
        "\n",
        "    # Plotting\n",
        "    plt.plot(k_range, scores, marker='o')\n",
        "    plt.xlabel('Number of Features (k)')\n",
        "    plt.ylabel('Cross-validated R² Score')\n",
        "    plt.title('Finding Best k')\n",
        "    plt.grid(True)\n",
        "    plt.show()\n",
        "\n",
        "    best_k = k_range[np.argmax(scores)]\n",
        "    print(f\"✅ Best k = {best_k}, R² Score = {max(scores):.4f}\")\n",
        "    return best_k\n"
      ]
    },
    {
      "cell_type": "code",
      "execution_count": null,
      "metadata": {
        "id": "dT361KmCPVJy"
      },
      "outputs": [],
      "source": [
        "best_k = find_optimal_k(df, target_col='literacy_rate', max_k=100)\n"
      ]
    },
    {
      "cell_type": "code",
      "execution_count": null,
      "metadata": {
        "colab": {
          "base_uri": "https://localhost:8080/"
        },
        "id": "oAiQVqsPl1ZM",
        "outputId": "dc559a6b-7cb4-4714-fc52-43a9ad48ec4e"
      },
      "outputs": [
        {
          "name": "stdout",
          "output_type": "stream",
          "text": [
            "shape of data (1268, 163) shape of reduced data (1268, 160)\n"
          ]
        }
      ],
      "source": [
        "# YOUR CODE HERE\n",
        "from sklearn.preprocessing import StandardScaler\n",
        "df_cleaned.to_csv('output.csv', index=False)\n",
        "\n",
        "x = df_cleaned.drop(columns=['overall_lit'])\n",
        "y = df_cleaned['overall_lit']\n",
        "\n",
        "from sklearn.feature_selection import SelectKBest, f_classif\n",
        "\n",
        "selector = SelectKBest(score_func=f_classif, k=160)  # top 150 features\n",
        "x_new = selector.fit_transform(x, y)\n",
        "\n",
        "# Get selected feature names\n",
        "selected_features = x.columns[selector.get_support()]\n",
        "# print(\"Top features:\", selected_features.tolist())\n",
        "\n",
        "print(\"shape of data\",x.shape,\"shape of reduced data\",x_new.shape)\n",
        "\n",
        "\n",
        "# Scale numeric features\n",
        "scaler = StandardScaler()\n",
        "x_scaled = scaler.fit_transform(x_new)\n",
        "\n",
        "\n",
        "\n",
        "\n"
      ]
    },
    {
      "cell_type": "markdown",
      "metadata": {
        "id": "xTB9sMRsVxyj"
      },
      "source": [
        "## Exercise 7 - (3 Marks)\n",
        "\n",
        "Apply different classifiers on the preprocessed data and figure out which classifier gives the best result.\n",
        "\n",
        "* Split the data into train and test\n",
        "\n",
        "* Fit the model with train data and find the accuracy of test data\n",
        "\n",
        "### Expected Accuracy is above 90%"
      ]
    },
    {
      "cell_type": "code",
      "execution_count": null,
      "metadata": {
        "colab": {
          "base_uri": "https://localhost:8080/"
        },
        "id": "yRgkeFVBqv0W",
        "outputId": "7def26aa-c57a-42fb-c0f4-8d4954ccade3"
      },
      "outputs": [
        {
          "name": "stdout",
          "output_type": "stream",
          "text": [
            "Logistic Regression Accuracy: 0.8700787401574803  Accuracy Train: 0.9822485207100592\n",
            "Decision Tree Accuracy: 0.9291338582677166  Accuracy Train: 1.0\n",
            "Random Forest Accuracy: 0.9094488188976378  Accuracy Train: 1.0\n",
            "Support Vector Machine Accuracy: 0.8346456692913385  Accuracy Train: 0.8954635108481263\n",
            "K-Nearest Neighbors Accuracy: 0.7283464566929134  Accuracy Train: 0.7988165680473372\n",
            "Bagging Classifier Accuracy: 0.9330708661417323  Accuracy Train: 0.995069033530572\n"
          ]
        }
      ],
      "source": [
        "# YOUR CODE HERE for applying different classifiers\n",
        "from sklearn.model_selection import train_test_split\n",
        "from sklearn.linear_model import LogisticRegression\n",
        "from sklearn.tree import DecisionTreeClassifier\n",
        "from sklearn.ensemble import RandomForestClassifier\n",
        "from sklearn.svm import SVC\n",
        "from sklearn.neighbors import KNeighborsClassifier\n",
        "from sklearn.metrics import accuracy_score\n",
        "from sklearn.ensemble import BaggingClassifier\n",
        "\n",
        "\n",
        "x_train, x_test, y_train, y_test = train_test_split(x_scaled, y, test_size=0.2, random_state=42)\n",
        "\n",
        "\n",
        "models = {\n",
        "    'Logistic Regression': LogisticRegression(),\n",
        "    'Decision Tree': DecisionTreeClassifier(),\n",
        "    'Random Forest': RandomForestClassifier(),\n",
        "    'Support Vector Machine': SVC(),\n",
        "    'K-Nearest Neighbors': KNeighborsClassifier(),\n",
        "    'Bagging Classifier': BaggingClassifier(random_state=42)\n",
        "\n",
        "}\n",
        "\n",
        "for model_name, model in models.items():\n",
        "    model.fit(x_train, y_train)\n",
        "    y_pred = model.predict(x_test)\n",
        "    y_predtrain = model.predict(x_train)\n",
        "    accuracy = accuracy_score(y_test, y_pred)\n",
        "    accuracy_train = accuracy_score(y_train, y_predtrain)\n",
        "\n",
        "    print(f'{model_name} Accuracy: {accuracy}  Accuracy Train: {accuracy_train}')\n",
        "\n"
      ]
    }
  ],
  "metadata": {
    "colab": {
      "provenance": []
    },
    "kernelspec": {
      "display_name": "Python 3",
      "name": "python3"
    }
  },
  "nbformat": 4,
  "nbformat_minor": 0
}
